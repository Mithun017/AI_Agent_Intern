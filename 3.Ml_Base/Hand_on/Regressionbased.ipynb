{
 "cells": [
  {
   "cell_type": "markdown",
   "id": "ac1bd78f",
   "metadata": {},
   "source": [
    "Linear regression Y=mx+c"
   ]
  },
  {
   "cell_type": "code",
   "execution_count": 32,
   "id": "8d330bec",
   "metadata": {},
   "outputs": [],
   "source": [
    "import pandas as pd\n",
    "import numpy as np\n",
    "from sklearn.model_selection import train_test_split\n",
    "from sklearn.linear_model import LinearRegression\n",
    "from sklearn.metrics import r2_score,mean_absolute_error\n",
    "import matplotlib.pyplot as plt\n",
    "import seaborn as sns\n",
    "from joblib import dump,load"
   ]
  },
  {
   "cell_type": "code",
   "execution_count": 4,
   "id": "83b4bae2",
   "metadata": {},
   "outputs": [],
   "source": [
    "df=pd.read_csv(r\"C:\\Users\\MITHUN\\Desktop\\STUDIES\\Intership\\2.5K Ai Agents Intern\\3.Ml_Base\\SOCR-HeightWeight.csv\")"
   ]
  },
  {
   "cell_type": "code",
   "execution_count": 5,
   "id": "1f2335f0",
   "metadata": {},
   "outputs": [
    {
     "data": {
      "application/vnd.microsoft.datawrangler.viewer.v0+json": {
       "columns": [
        {
         "name": "index",
         "rawType": "int64",
         "type": "integer"
        },
        {
         "name": "Index",
         "rawType": "int64",
         "type": "integer"
        },
        {
         "name": "Height(Inches)",
         "rawType": "float64",
         "type": "float"
        },
        {
         "name": "Weight(Pounds)",
         "rawType": "float64",
         "type": "float"
        }
       ],
       "ref": "7457118b-4f2f-4613-9779-db427e590ea7",
       "rows": [
        [
         "0",
         "1",
         "65.78331",
         "112.9925"
        ],
        [
         "1",
         "2",
         "71.51521",
         "136.4873"
        ],
        [
         "2",
         "3",
         "69.39874",
         "153.0269"
        ],
        [
         "3",
         "4",
         "68.2166",
         "142.3354"
        ],
        [
         "4",
         "5",
         "67.78781",
         "144.2971"
        ],
        [
         "5",
         "6",
         "68.69784",
         "123.3024"
        ],
        [
         "6",
         "7",
         "69.80204",
         "141.4947"
        ],
        [
         "7",
         "8",
         "70.01472",
         "136.4623"
        ],
        [
         "8",
         "9",
         "67.90265",
         "112.3723"
        ],
        [
         "9",
         "10",
         "66.78236",
         "120.6672"
        ],
        [
         "10",
         "11",
         "66.48769",
         "127.4516"
        ],
        [
         "11",
         "12",
         "67.62333",
         "114.143"
        ],
        [
         "12",
         "13",
         "68.30248",
         "125.6107"
        ],
        [
         "13",
         "14",
         "67.11656",
         "122.4618"
        ],
        [
         "14",
         "15",
         "68.27967",
         "116.0866"
        ],
        [
         "15",
         "16",
         "71.0916",
         "139.9975"
        ],
        [
         "16",
         "17",
         "66.461",
         "129.5023"
        ],
        [
         "17",
         "18",
         "68.64927",
         "142.9733"
        ],
        [
         "18",
         "19",
         "71.23033",
         "137.9025"
        ],
        [
         "19",
         "20",
         "67.13118",
         "124.0449"
        ],
        [
         "20",
         "21",
         "67.83379",
         "141.2807"
        ],
        [
         "21",
         "22",
         "68.87881",
         "143.5392"
        ],
        [
         "22",
         "23",
         "63.48115",
         "97.90191"
        ],
        [
         "23",
         "24",
         "68.42187",
         "129.5027"
        ],
        [
         "24",
         "25",
         "67.62804",
         "141.8501"
        ],
        [
         "25",
         "26",
         "67.20864",
         "129.7244"
        ],
        [
         "26",
         "27",
         "70.84235",
         "142.4235"
        ],
        [
         "27",
         "28",
         "67.49434",
         "131.5502"
        ],
        [
         "28",
         "29",
         "66.53401",
         "108.3324"
        ],
        [
         "29",
         "30",
         "65.44098",
         "113.8922"
        ],
        [
         "30",
         "31",
         "69.5233",
         "103.3016"
        ],
        [
         "31",
         "32",
         "65.8132",
         "120.7536"
        ],
        [
         "32",
         "33",
         "67.8163",
         "125.7886"
        ],
        [
         "33",
         "34",
         "70.59505",
         "136.2225"
        ],
        [
         "34",
         "35",
         "71.80484",
         "140.1015"
        ],
        [
         "35",
         "36",
         "69.20613",
         "128.7487"
        ],
        [
         "36",
         "37",
         "66.80368",
         "141.7994"
        ],
        [
         "37",
         "38",
         "67.65893",
         "121.2319"
        ],
        [
         "38",
         "39",
         "67.80701",
         "131.3478"
        ],
        [
         "39",
         "40",
         "64.04535",
         "106.7115"
        ],
        [
         "40",
         "41",
         "68.57463",
         "124.3598"
        ],
        [
         "41",
         "42",
         "65.18357",
         "124.8591"
        ],
        [
         "42",
         "43",
         "69.65814",
         "139.6711"
        ],
        [
         "43",
         "44",
         "67.96731",
         "137.3696"
        ],
        [
         "44",
         "45",
         "65.98088",
         "106.4499"
        ],
        [
         "45",
         "46",
         "68.67249",
         "128.7639"
        ],
        [
         "46",
         "47",
         "66.88088",
         "145.6837"
        ],
        [
         "47",
         "48",
         "67.69868",
         "116.819"
        ],
        [
         "48",
         "49",
         "69.82117",
         "143.6215"
        ],
        [
         "49",
         "50",
         "69.08817",
         "134.9325"
        ]
       ],
       "shape": {
        "columns": 3,
        "rows": 25000
       }
      },
      "text/html": [
       "<div>\n",
       "<style scoped>\n",
       "    .dataframe tbody tr th:only-of-type {\n",
       "        vertical-align: middle;\n",
       "    }\n",
       "\n",
       "    .dataframe tbody tr th {\n",
       "        vertical-align: top;\n",
       "    }\n",
       "\n",
       "    .dataframe thead th {\n",
       "        text-align: right;\n",
       "    }\n",
       "</style>\n",
       "<table border=\"1\" class=\"dataframe\">\n",
       "  <thead>\n",
       "    <tr style=\"text-align: right;\">\n",
       "      <th></th>\n",
       "      <th>Index</th>\n",
       "      <th>Height(Inches)</th>\n",
       "      <th>Weight(Pounds)</th>\n",
       "    </tr>\n",
       "  </thead>\n",
       "  <tbody>\n",
       "    <tr>\n",
       "      <th>0</th>\n",
       "      <td>1</td>\n",
       "      <td>65.78331</td>\n",
       "      <td>112.9925</td>\n",
       "    </tr>\n",
       "    <tr>\n",
       "      <th>1</th>\n",
       "      <td>2</td>\n",
       "      <td>71.51521</td>\n",
       "      <td>136.4873</td>\n",
       "    </tr>\n",
       "    <tr>\n",
       "      <th>2</th>\n",
       "      <td>3</td>\n",
       "      <td>69.39874</td>\n",
       "      <td>153.0269</td>\n",
       "    </tr>\n",
       "    <tr>\n",
       "      <th>3</th>\n",
       "      <td>4</td>\n",
       "      <td>68.21660</td>\n",
       "      <td>142.3354</td>\n",
       "    </tr>\n",
       "    <tr>\n",
       "      <th>4</th>\n",
       "      <td>5</td>\n",
       "      <td>67.78781</td>\n",
       "      <td>144.2971</td>\n",
       "    </tr>\n",
       "    <tr>\n",
       "      <th>...</th>\n",
       "      <td>...</td>\n",
       "      <td>...</td>\n",
       "      <td>...</td>\n",
       "    </tr>\n",
       "    <tr>\n",
       "      <th>24995</th>\n",
       "      <td>24996</td>\n",
       "      <td>69.50215</td>\n",
       "      <td>118.0312</td>\n",
       "    </tr>\n",
       "    <tr>\n",
       "      <th>24996</th>\n",
       "      <td>24997</td>\n",
       "      <td>64.54826</td>\n",
       "      <td>120.1932</td>\n",
       "    </tr>\n",
       "    <tr>\n",
       "      <th>24997</th>\n",
       "      <td>24998</td>\n",
       "      <td>64.69855</td>\n",
       "      <td>118.2655</td>\n",
       "    </tr>\n",
       "    <tr>\n",
       "      <th>24998</th>\n",
       "      <td>24999</td>\n",
       "      <td>67.52918</td>\n",
       "      <td>132.2682</td>\n",
       "    </tr>\n",
       "    <tr>\n",
       "      <th>24999</th>\n",
       "      <td>25000</td>\n",
       "      <td>68.87761</td>\n",
       "      <td>124.8742</td>\n",
       "    </tr>\n",
       "  </tbody>\n",
       "</table>\n",
       "<p>25000 rows × 3 columns</p>\n",
       "</div>"
      ],
      "text/plain": [
       "       Index  Height(Inches)  Weight(Pounds)\n",
       "0          1        65.78331        112.9925\n",
       "1          2        71.51521        136.4873\n",
       "2          3        69.39874        153.0269\n",
       "3          4        68.21660        142.3354\n",
       "4          5        67.78781        144.2971\n",
       "...      ...             ...             ...\n",
       "24995  24996        69.50215        118.0312\n",
       "24996  24997        64.54826        120.1932\n",
       "24997  24998        64.69855        118.2655\n",
       "24998  24999        67.52918        132.2682\n",
       "24999  25000        68.87761        124.8742\n",
       "\n",
       "[25000 rows x 3 columns]"
      ]
     },
     "execution_count": 5,
     "metadata": {},
     "output_type": "execute_result"
    }
   ],
   "source": [
    "df"
   ]
  },
  {
   "cell_type": "code",
   "execution_count": 6,
   "id": "10a1d584",
   "metadata": {},
   "outputs": [
    {
     "data": {
      "application/vnd.microsoft.datawrangler.viewer.v0+json": {
       "columns": [
        {
         "name": "index",
         "rawType": "int64",
         "type": "integer"
        },
        {
         "name": "Index",
         "rawType": "int64",
         "type": "integer"
        },
        {
         "name": "Height(Inches)",
         "rawType": "float64",
         "type": "float"
        },
        {
         "name": "Weight(Pounds)",
         "rawType": "float64",
         "type": "float"
        }
       ],
       "ref": "ce611abb-4ba3-41a1-9278-d2c8fd218e0d",
       "rows": [
        [
         "0",
         "1",
         "65.78331",
         "112.9925"
        ],
        [
         "1",
         "2",
         "71.51521",
         "136.4873"
        ],
        [
         "2",
         "3",
         "69.39874",
         "153.0269"
        ],
        [
         "3",
         "4",
         "68.2166",
         "142.3354"
        ],
        [
         "4",
         "5",
         "67.78781",
         "144.2971"
        ]
       ],
       "shape": {
        "columns": 3,
        "rows": 5
       }
      },
      "text/html": [
       "<div>\n",
       "<style scoped>\n",
       "    .dataframe tbody tr th:only-of-type {\n",
       "        vertical-align: middle;\n",
       "    }\n",
       "\n",
       "    .dataframe tbody tr th {\n",
       "        vertical-align: top;\n",
       "    }\n",
       "\n",
       "    .dataframe thead th {\n",
       "        text-align: right;\n",
       "    }\n",
       "</style>\n",
       "<table border=\"1\" class=\"dataframe\">\n",
       "  <thead>\n",
       "    <tr style=\"text-align: right;\">\n",
       "      <th></th>\n",
       "      <th>Index</th>\n",
       "      <th>Height(Inches)</th>\n",
       "      <th>Weight(Pounds)</th>\n",
       "    </tr>\n",
       "  </thead>\n",
       "  <tbody>\n",
       "    <tr>\n",
       "      <th>0</th>\n",
       "      <td>1</td>\n",
       "      <td>65.78331</td>\n",
       "      <td>112.9925</td>\n",
       "    </tr>\n",
       "    <tr>\n",
       "      <th>1</th>\n",
       "      <td>2</td>\n",
       "      <td>71.51521</td>\n",
       "      <td>136.4873</td>\n",
       "    </tr>\n",
       "    <tr>\n",
       "      <th>2</th>\n",
       "      <td>3</td>\n",
       "      <td>69.39874</td>\n",
       "      <td>153.0269</td>\n",
       "    </tr>\n",
       "    <tr>\n",
       "      <th>3</th>\n",
       "      <td>4</td>\n",
       "      <td>68.21660</td>\n",
       "      <td>142.3354</td>\n",
       "    </tr>\n",
       "    <tr>\n",
       "      <th>4</th>\n",
       "      <td>5</td>\n",
       "      <td>67.78781</td>\n",
       "      <td>144.2971</td>\n",
       "    </tr>\n",
       "  </tbody>\n",
       "</table>\n",
       "</div>"
      ],
      "text/plain": [
       "   Index  Height(Inches)  Weight(Pounds)\n",
       "0      1        65.78331        112.9925\n",
       "1      2        71.51521        136.4873\n",
       "2      3        69.39874        153.0269\n",
       "3      4        68.21660        142.3354\n",
       "4      5        67.78781        144.2971"
      ]
     },
     "execution_count": 6,
     "metadata": {},
     "output_type": "execute_result"
    }
   ],
   "source": [
    "df.head()"
   ]
  },
  {
   "cell_type": "code",
   "execution_count": 7,
   "id": "7a9a8968",
   "metadata": {},
   "outputs": [
    {
     "data": {
      "application/vnd.microsoft.datawrangler.viewer.v0+json": {
       "columns": [
        {
         "name": "index",
         "rawType": "int64",
         "type": "integer"
        },
        {
         "name": "Index",
         "rawType": "int64",
         "type": "integer"
        },
        {
         "name": "Height(Inches)",
         "rawType": "float64",
         "type": "float"
        },
        {
         "name": "Weight(Pounds)",
         "rawType": "float64",
         "type": "float"
        }
       ],
       "ref": "4897b988-28f4-48c3-a427-6f38c342e96f",
       "rows": [
        [
         "24995",
         "24996",
         "69.50215",
         "118.0312"
        ],
        [
         "24996",
         "24997",
         "64.54826",
         "120.1932"
        ],
        [
         "24997",
         "24998",
         "64.69855",
         "118.2655"
        ],
        [
         "24998",
         "24999",
         "67.52918",
         "132.2682"
        ],
        [
         "24999",
         "25000",
         "68.87761",
         "124.8742"
        ]
       ],
       "shape": {
        "columns": 3,
        "rows": 5
       }
      },
      "text/html": [
       "<div>\n",
       "<style scoped>\n",
       "    .dataframe tbody tr th:only-of-type {\n",
       "        vertical-align: middle;\n",
       "    }\n",
       "\n",
       "    .dataframe tbody tr th {\n",
       "        vertical-align: top;\n",
       "    }\n",
       "\n",
       "    .dataframe thead th {\n",
       "        text-align: right;\n",
       "    }\n",
       "</style>\n",
       "<table border=\"1\" class=\"dataframe\">\n",
       "  <thead>\n",
       "    <tr style=\"text-align: right;\">\n",
       "      <th></th>\n",
       "      <th>Index</th>\n",
       "      <th>Height(Inches)</th>\n",
       "      <th>Weight(Pounds)</th>\n",
       "    </tr>\n",
       "  </thead>\n",
       "  <tbody>\n",
       "    <tr>\n",
       "      <th>24995</th>\n",
       "      <td>24996</td>\n",
       "      <td>69.50215</td>\n",
       "      <td>118.0312</td>\n",
       "    </tr>\n",
       "    <tr>\n",
       "      <th>24996</th>\n",
       "      <td>24997</td>\n",
       "      <td>64.54826</td>\n",
       "      <td>120.1932</td>\n",
       "    </tr>\n",
       "    <tr>\n",
       "      <th>24997</th>\n",
       "      <td>24998</td>\n",
       "      <td>64.69855</td>\n",
       "      <td>118.2655</td>\n",
       "    </tr>\n",
       "    <tr>\n",
       "      <th>24998</th>\n",
       "      <td>24999</td>\n",
       "      <td>67.52918</td>\n",
       "      <td>132.2682</td>\n",
       "    </tr>\n",
       "    <tr>\n",
       "      <th>24999</th>\n",
       "      <td>25000</td>\n",
       "      <td>68.87761</td>\n",
       "      <td>124.8742</td>\n",
       "    </tr>\n",
       "  </tbody>\n",
       "</table>\n",
       "</div>"
      ],
      "text/plain": [
       "       Index  Height(Inches)  Weight(Pounds)\n",
       "24995  24996        69.50215        118.0312\n",
       "24996  24997        64.54826        120.1932\n",
       "24997  24998        64.69855        118.2655\n",
       "24998  24999        67.52918        132.2682\n",
       "24999  25000        68.87761        124.8742"
      ]
     },
     "execution_count": 7,
     "metadata": {},
     "output_type": "execute_result"
    }
   ],
   "source": [
    "df.tail()"
   ]
  },
  {
   "cell_type": "code",
   "execution_count": 8,
   "id": "fcddb40b",
   "metadata": {},
   "outputs": [
    {
     "data": {
      "application/vnd.microsoft.datawrangler.viewer.v0+json": {
       "columns": [
        {
         "name": "index",
         "rawType": "object",
         "type": "string"
        },
        {
         "name": "Index",
         "rawType": "float64",
         "type": "float"
        },
        {
         "name": "Height(Inches)",
         "rawType": "float64",
         "type": "float"
        },
        {
         "name": "Weight(Pounds)",
         "rawType": "float64",
         "type": "float"
        }
       ],
       "ref": "cd166db3-4c11-4040-a1a0-7bdf9f8ed001",
       "rows": [
        [
         "count",
         "25000.0",
         "25000.0",
         "25000.0"
        ],
        [
         "mean",
         "12500.5",
         "67.99311359679999",
         "127.07942116080001"
        ],
        [
         "std",
         "7217.022700994273",
         "1.9016787712056105",
         "11.660897563604278"
        ],
        [
         "min",
         "1.0",
         "60.27836",
         "78.01476"
        ],
        [
         "25%",
         "6250.75",
         "66.7043975",
         "119.308675"
        ],
        [
         "50%",
         "12500.5",
         "67.9957",
         "127.15775"
        ],
        [
         "75%",
         "18750.25",
         "69.2729575",
         "134.89285"
        ],
        [
         "max",
         "25000.0",
         "75.1528",
         "170.924"
        ]
       ],
       "shape": {
        "columns": 3,
        "rows": 8
       }
      },
      "text/html": [
       "<div>\n",
       "<style scoped>\n",
       "    .dataframe tbody tr th:only-of-type {\n",
       "        vertical-align: middle;\n",
       "    }\n",
       "\n",
       "    .dataframe tbody tr th {\n",
       "        vertical-align: top;\n",
       "    }\n",
       "\n",
       "    .dataframe thead th {\n",
       "        text-align: right;\n",
       "    }\n",
       "</style>\n",
       "<table border=\"1\" class=\"dataframe\">\n",
       "  <thead>\n",
       "    <tr style=\"text-align: right;\">\n",
       "      <th></th>\n",
       "      <th>Index</th>\n",
       "      <th>Height(Inches)</th>\n",
       "      <th>Weight(Pounds)</th>\n",
       "    </tr>\n",
       "  </thead>\n",
       "  <tbody>\n",
       "    <tr>\n",
       "      <th>count</th>\n",
       "      <td>25000.000000</td>\n",
       "      <td>25000.000000</td>\n",
       "      <td>25000.000000</td>\n",
       "    </tr>\n",
       "    <tr>\n",
       "      <th>mean</th>\n",
       "      <td>12500.500000</td>\n",
       "      <td>67.993114</td>\n",
       "      <td>127.079421</td>\n",
       "    </tr>\n",
       "    <tr>\n",
       "      <th>std</th>\n",
       "      <td>7217.022701</td>\n",
       "      <td>1.901679</td>\n",
       "      <td>11.660898</td>\n",
       "    </tr>\n",
       "    <tr>\n",
       "      <th>min</th>\n",
       "      <td>1.000000</td>\n",
       "      <td>60.278360</td>\n",
       "      <td>78.014760</td>\n",
       "    </tr>\n",
       "    <tr>\n",
       "      <th>25%</th>\n",
       "      <td>6250.750000</td>\n",
       "      <td>66.704397</td>\n",
       "      <td>119.308675</td>\n",
       "    </tr>\n",
       "    <tr>\n",
       "      <th>50%</th>\n",
       "      <td>12500.500000</td>\n",
       "      <td>67.995700</td>\n",
       "      <td>127.157750</td>\n",
       "    </tr>\n",
       "    <tr>\n",
       "      <th>75%</th>\n",
       "      <td>18750.250000</td>\n",
       "      <td>69.272958</td>\n",
       "      <td>134.892850</td>\n",
       "    </tr>\n",
       "    <tr>\n",
       "      <th>max</th>\n",
       "      <td>25000.000000</td>\n",
       "      <td>75.152800</td>\n",
       "      <td>170.924000</td>\n",
       "    </tr>\n",
       "  </tbody>\n",
       "</table>\n",
       "</div>"
      ],
      "text/plain": [
       "              Index  Height(Inches)  Weight(Pounds)\n",
       "count  25000.000000    25000.000000    25000.000000\n",
       "mean   12500.500000       67.993114      127.079421\n",
       "std     7217.022701        1.901679       11.660898\n",
       "min        1.000000       60.278360       78.014760\n",
       "25%     6250.750000       66.704397      119.308675\n",
       "50%    12500.500000       67.995700      127.157750\n",
       "75%    18750.250000       69.272958      134.892850\n",
       "max    25000.000000       75.152800      170.924000"
      ]
     },
     "execution_count": 8,
     "metadata": {},
     "output_type": "execute_result"
    }
   ],
   "source": [
    "df.describe()"
   ]
  },
  {
   "cell_type": "code",
   "execution_count": 9,
   "id": "0a514a3e",
   "metadata": {},
   "outputs": [
    {
     "data": {
      "application/vnd.microsoft.datawrangler.viewer.v0+json": {
       "columns": [
        {
         "name": "index",
         "rawType": "int64",
         "type": "integer"
        },
        {
         "name": "Index",
         "rawType": "bool",
         "type": "boolean"
        },
        {
         "name": "Height(Inches)",
         "rawType": "bool",
         "type": "boolean"
        },
        {
         "name": "Weight(Pounds)",
         "rawType": "bool",
         "type": "boolean"
        }
       ],
       "ref": "b9c5aaca-bd1a-4280-beb9-1011c751f565",
       "rows": [
        [
         "0",
         "False",
         "False",
         "False"
        ],
        [
         "1",
         "False",
         "False",
         "False"
        ],
        [
         "2",
         "False",
         "False",
         "False"
        ],
        [
         "3",
         "False",
         "False",
         "False"
        ],
        [
         "4",
         "False",
         "False",
         "False"
        ],
        [
         "5",
         "False",
         "False",
         "False"
        ],
        [
         "6",
         "False",
         "False",
         "False"
        ],
        [
         "7",
         "False",
         "False",
         "False"
        ],
        [
         "8",
         "False",
         "False",
         "False"
        ],
        [
         "9",
         "False",
         "False",
         "False"
        ],
        [
         "10",
         "False",
         "False",
         "False"
        ],
        [
         "11",
         "False",
         "False",
         "False"
        ],
        [
         "12",
         "False",
         "False",
         "False"
        ],
        [
         "13",
         "False",
         "False",
         "False"
        ],
        [
         "14",
         "False",
         "False",
         "False"
        ],
        [
         "15",
         "False",
         "False",
         "False"
        ],
        [
         "16",
         "False",
         "False",
         "False"
        ],
        [
         "17",
         "False",
         "False",
         "False"
        ],
        [
         "18",
         "False",
         "False",
         "False"
        ],
        [
         "19",
         "False",
         "False",
         "False"
        ],
        [
         "20",
         "False",
         "False",
         "False"
        ],
        [
         "21",
         "False",
         "False",
         "False"
        ],
        [
         "22",
         "False",
         "False",
         "False"
        ],
        [
         "23",
         "False",
         "False",
         "False"
        ],
        [
         "24",
         "False",
         "False",
         "False"
        ],
        [
         "25",
         "False",
         "False",
         "False"
        ],
        [
         "26",
         "False",
         "False",
         "False"
        ],
        [
         "27",
         "False",
         "False",
         "False"
        ],
        [
         "28",
         "False",
         "False",
         "False"
        ],
        [
         "29",
         "False",
         "False",
         "False"
        ],
        [
         "30",
         "False",
         "False",
         "False"
        ],
        [
         "31",
         "False",
         "False",
         "False"
        ],
        [
         "32",
         "False",
         "False",
         "False"
        ],
        [
         "33",
         "False",
         "False",
         "False"
        ],
        [
         "34",
         "False",
         "False",
         "False"
        ],
        [
         "35",
         "False",
         "False",
         "False"
        ],
        [
         "36",
         "False",
         "False",
         "False"
        ],
        [
         "37",
         "False",
         "False",
         "False"
        ],
        [
         "38",
         "False",
         "False",
         "False"
        ],
        [
         "39",
         "False",
         "False",
         "False"
        ],
        [
         "40",
         "False",
         "False",
         "False"
        ],
        [
         "41",
         "False",
         "False",
         "False"
        ],
        [
         "42",
         "False",
         "False",
         "False"
        ],
        [
         "43",
         "False",
         "False",
         "False"
        ],
        [
         "44",
         "False",
         "False",
         "False"
        ],
        [
         "45",
         "False",
         "False",
         "False"
        ],
        [
         "46",
         "False",
         "False",
         "False"
        ],
        [
         "47",
         "False",
         "False",
         "False"
        ],
        [
         "48",
         "False",
         "False",
         "False"
        ],
        [
         "49",
         "False",
         "False",
         "False"
        ]
       ],
       "shape": {
        "columns": 3,
        "rows": 25000
       }
      },
      "text/html": [
       "<div>\n",
       "<style scoped>\n",
       "    .dataframe tbody tr th:only-of-type {\n",
       "        vertical-align: middle;\n",
       "    }\n",
       "\n",
       "    .dataframe tbody tr th {\n",
       "        vertical-align: top;\n",
       "    }\n",
       "\n",
       "    .dataframe thead th {\n",
       "        text-align: right;\n",
       "    }\n",
       "</style>\n",
       "<table border=\"1\" class=\"dataframe\">\n",
       "  <thead>\n",
       "    <tr style=\"text-align: right;\">\n",
       "      <th></th>\n",
       "      <th>Index</th>\n",
       "      <th>Height(Inches)</th>\n",
       "      <th>Weight(Pounds)</th>\n",
       "    </tr>\n",
       "  </thead>\n",
       "  <tbody>\n",
       "    <tr>\n",
       "      <th>0</th>\n",
       "      <td>False</td>\n",
       "      <td>False</td>\n",
       "      <td>False</td>\n",
       "    </tr>\n",
       "    <tr>\n",
       "      <th>1</th>\n",
       "      <td>False</td>\n",
       "      <td>False</td>\n",
       "      <td>False</td>\n",
       "    </tr>\n",
       "    <tr>\n",
       "      <th>2</th>\n",
       "      <td>False</td>\n",
       "      <td>False</td>\n",
       "      <td>False</td>\n",
       "    </tr>\n",
       "    <tr>\n",
       "      <th>3</th>\n",
       "      <td>False</td>\n",
       "      <td>False</td>\n",
       "      <td>False</td>\n",
       "    </tr>\n",
       "    <tr>\n",
       "      <th>4</th>\n",
       "      <td>False</td>\n",
       "      <td>False</td>\n",
       "      <td>False</td>\n",
       "    </tr>\n",
       "    <tr>\n",
       "      <th>...</th>\n",
       "      <td>...</td>\n",
       "      <td>...</td>\n",
       "      <td>...</td>\n",
       "    </tr>\n",
       "    <tr>\n",
       "      <th>24995</th>\n",
       "      <td>False</td>\n",
       "      <td>False</td>\n",
       "      <td>False</td>\n",
       "    </tr>\n",
       "    <tr>\n",
       "      <th>24996</th>\n",
       "      <td>False</td>\n",
       "      <td>False</td>\n",
       "      <td>False</td>\n",
       "    </tr>\n",
       "    <tr>\n",
       "      <th>24997</th>\n",
       "      <td>False</td>\n",
       "      <td>False</td>\n",
       "      <td>False</td>\n",
       "    </tr>\n",
       "    <tr>\n",
       "      <th>24998</th>\n",
       "      <td>False</td>\n",
       "      <td>False</td>\n",
       "      <td>False</td>\n",
       "    </tr>\n",
       "    <tr>\n",
       "      <th>24999</th>\n",
       "      <td>False</td>\n",
       "      <td>False</td>\n",
       "      <td>False</td>\n",
       "    </tr>\n",
       "  </tbody>\n",
       "</table>\n",
       "<p>25000 rows × 3 columns</p>\n",
       "</div>"
      ],
      "text/plain": [
       "       Index  Height(Inches)  Weight(Pounds)\n",
       "0      False           False           False\n",
       "1      False           False           False\n",
       "2      False           False           False\n",
       "3      False           False           False\n",
       "4      False           False           False\n",
       "...      ...             ...             ...\n",
       "24995  False           False           False\n",
       "24996  False           False           False\n",
       "24997  False           False           False\n",
       "24998  False           False           False\n",
       "24999  False           False           False\n",
       "\n",
       "[25000 rows x 3 columns]"
      ]
     },
     "execution_count": 9,
     "metadata": {},
     "output_type": "execute_result"
    }
   ],
   "source": [
    "df.isna()"
   ]
  },
  {
   "cell_type": "code",
   "execution_count": 10,
   "id": "7de09b13",
   "metadata": {},
   "outputs": [
    {
     "data": {
      "application/vnd.microsoft.datawrangler.viewer.v0+json": {
       "columns": [
        {
         "name": "index",
         "rawType": "int64",
         "type": "integer"
        },
        {
         "name": "Index",
         "rawType": "bool",
         "type": "boolean"
        },
        {
         "name": "Height(Inches)",
         "rawType": "bool",
         "type": "boolean"
        },
        {
         "name": "Weight(Pounds)",
         "rawType": "bool",
         "type": "boolean"
        }
       ],
       "ref": "9d45cf4a-ba2c-4970-84e9-3275ec12c943",
       "rows": [
        [
         "0",
         "False",
         "False",
         "False"
        ],
        [
         "1",
         "False",
         "False",
         "False"
        ],
        [
         "2",
         "False",
         "False",
         "False"
        ],
        [
         "3",
         "False",
         "False",
         "False"
        ],
        [
         "4",
         "False",
         "False",
         "False"
        ],
        [
         "5",
         "False",
         "False",
         "False"
        ],
        [
         "6",
         "False",
         "False",
         "False"
        ],
        [
         "7",
         "False",
         "False",
         "False"
        ],
        [
         "8",
         "False",
         "False",
         "False"
        ],
        [
         "9",
         "False",
         "False",
         "False"
        ],
        [
         "10",
         "False",
         "False",
         "False"
        ],
        [
         "11",
         "False",
         "False",
         "False"
        ],
        [
         "12",
         "False",
         "False",
         "False"
        ],
        [
         "13",
         "False",
         "False",
         "False"
        ],
        [
         "14",
         "False",
         "False",
         "False"
        ],
        [
         "15",
         "False",
         "False",
         "False"
        ],
        [
         "16",
         "False",
         "False",
         "False"
        ],
        [
         "17",
         "False",
         "False",
         "False"
        ],
        [
         "18",
         "False",
         "False",
         "False"
        ],
        [
         "19",
         "False",
         "False",
         "False"
        ],
        [
         "20",
         "False",
         "False",
         "False"
        ],
        [
         "21",
         "False",
         "False",
         "False"
        ],
        [
         "22",
         "False",
         "False",
         "False"
        ],
        [
         "23",
         "False",
         "False",
         "False"
        ],
        [
         "24",
         "False",
         "False",
         "False"
        ],
        [
         "25",
         "False",
         "False",
         "False"
        ],
        [
         "26",
         "False",
         "False",
         "False"
        ],
        [
         "27",
         "False",
         "False",
         "False"
        ],
        [
         "28",
         "False",
         "False",
         "False"
        ],
        [
         "29",
         "False",
         "False",
         "False"
        ],
        [
         "30",
         "False",
         "False",
         "False"
        ],
        [
         "31",
         "False",
         "False",
         "False"
        ],
        [
         "32",
         "False",
         "False",
         "False"
        ],
        [
         "33",
         "False",
         "False",
         "False"
        ],
        [
         "34",
         "False",
         "False",
         "False"
        ],
        [
         "35",
         "False",
         "False",
         "False"
        ],
        [
         "36",
         "False",
         "False",
         "False"
        ],
        [
         "37",
         "False",
         "False",
         "False"
        ],
        [
         "38",
         "False",
         "False",
         "False"
        ],
        [
         "39",
         "False",
         "False",
         "False"
        ],
        [
         "40",
         "False",
         "False",
         "False"
        ],
        [
         "41",
         "False",
         "False",
         "False"
        ],
        [
         "42",
         "False",
         "False",
         "False"
        ],
        [
         "43",
         "False",
         "False",
         "False"
        ],
        [
         "44",
         "False",
         "False",
         "False"
        ],
        [
         "45",
         "False",
         "False",
         "False"
        ],
        [
         "46",
         "False",
         "False",
         "False"
        ],
        [
         "47",
         "False",
         "False",
         "False"
        ],
        [
         "48",
         "False",
         "False",
         "False"
        ],
        [
         "49",
         "False",
         "False",
         "False"
        ]
       ],
       "shape": {
        "columns": 3,
        "rows": 25000
       }
      },
      "text/html": [
       "<div>\n",
       "<style scoped>\n",
       "    .dataframe tbody tr th:only-of-type {\n",
       "        vertical-align: middle;\n",
       "    }\n",
       "\n",
       "    .dataframe tbody tr th {\n",
       "        vertical-align: top;\n",
       "    }\n",
       "\n",
       "    .dataframe thead th {\n",
       "        text-align: right;\n",
       "    }\n",
       "</style>\n",
       "<table border=\"1\" class=\"dataframe\">\n",
       "  <thead>\n",
       "    <tr style=\"text-align: right;\">\n",
       "      <th></th>\n",
       "      <th>Index</th>\n",
       "      <th>Height(Inches)</th>\n",
       "      <th>Weight(Pounds)</th>\n",
       "    </tr>\n",
       "  </thead>\n",
       "  <tbody>\n",
       "    <tr>\n",
       "      <th>0</th>\n",
       "      <td>False</td>\n",
       "      <td>False</td>\n",
       "      <td>False</td>\n",
       "    </tr>\n",
       "    <tr>\n",
       "      <th>1</th>\n",
       "      <td>False</td>\n",
       "      <td>False</td>\n",
       "      <td>False</td>\n",
       "    </tr>\n",
       "    <tr>\n",
       "      <th>2</th>\n",
       "      <td>False</td>\n",
       "      <td>False</td>\n",
       "      <td>False</td>\n",
       "    </tr>\n",
       "    <tr>\n",
       "      <th>3</th>\n",
       "      <td>False</td>\n",
       "      <td>False</td>\n",
       "      <td>False</td>\n",
       "    </tr>\n",
       "    <tr>\n",
       "      <th>4</th>\n",
       "      <td>False</td>\n",
       "      <td>False</td>\n",
       "      <td>False</td>\n",
       "    </tr>\n",
       "    <tr>\n",
       "      <th>...</th>\n",
       "      <td>...</td>\n",
       "      <td>...</td>\n",
       "      <td>...</td>\n",
       "    </tr>\n",
       "    <tr>\n",
       "      <th>24995</th>\n",
       "      <td>False</td>\n",
       "      <td>False</td>\n",
       "      <td>False</td>\n",
       "    </tr>\n",
       "    <tr>\n",
       "      <th>24996</th>\n",
       "      <td>False</td>\n",
       "      <td>False</td>\n",
       "      <td>False</td>\n",
       "    </tr>\n",
       "    <tr>\n",
       "      <th>24997</th>\n",
       "      <td>False</td>\n",
       "      <td>False</td>\n",
       "      <td>False</td>\n",
       "    </tr>\n",
       "    <tr>\n",
       "      <th>24998</th>\n",
       "      <td>False</td>\n",
       "      <td>False</td>\n",
       "      <td>False</td>\n",
       "    </tr>\n",
       "    <tr>\n",
       "      <th>24999</th>\n",
       "      <td>False</td>\n",
       "      <td>False</td>\n",
       "      <td>False</td>\n",
       "    </tr>\n",
       "  </tbody>\n",
       "</table>\n",
       "<p>25000 rows × 3 columns</p>\n",
       "</div>"
      ],
      "text/plain": [
       "       Index  Height(Inches)  Weight(Pounds)\n",
       "0      False           False           False\n",
       "1      False           False           False\n",
       "2      False           False           False\n",
       "3      False           False           False\n",
       "4      False           False           False\n",
       "...      ...             ...             ...\n",
       "24995  False           False           False\n",
       "24996  False           False           False\n",
       "24997  False           False           False\n",
       "24998  False           False           False\n",
       "24999  False           False           False\n",
       "\n",
       "[25000 rows x 3 columns]"
      ]
     },
     "execution_count": 10,
     "metadata": {},
     "output_type": "execute_result"
    }
   ],
   "source": [
    "df.isnull()"
   ]
  },
  {
   "cell_type": "code",
   "execution_count": 11,
   "id": "483c6bdf",
   "metadata": {},
   "outputs": [
    {
     "data": {
      "application/vnd.microsoft.datawrangler.viewer.v0+json": {
       "columns": [
        {
         "name": "index",
         "rawType": "int64",
         "type": "integer"
        },
        {
         "name": "Index",
         "rawType": "bool",
         "type": "boolean"
        },
        {
         "name": "Height(Inches)",
         "rawType": "bool",
         "type": "boolean"
        },
        {
         "name": "Weight(Pounds)",
         "rawType": "bool",
         "type": "boolean"
        }
       ],
       "ref": "d3b57cea-efe5-4778-a07d-69e0d71164bd",
       "rows": [
        [
         "0",
         "False",
         "False",
         "False"
        ],
        [
         "1",
         "False",
         "False",
         "False"
        ],
        [
         "2",
         "False",
         "False",
         "False"
        ],
        [
         "3",
         "False",
         "False",
         "False"
        ],
        [
         "4",
         "False",
         "False",
         "False"
        ],
        [
         "5",
         "False",
         "False",
         "False"
        ],
        [
         "6",
         "False",
         "False",
         "False"
        ],
        [
         "7",
         "False",
         "False",
         "False"
        ],
        [
         "8",
         "False",
         "False",
         "False"
        ],
        [
         "9",
         "False",
         "False",
         "False"
        ],
        [
         "10",
         "False",
         "False",
         "False"
        ],
        [
         "11",
         "False",
         "False",
         "False"
        ],
        [
         "12",
         "False",
         "False",
         "False"
        ],
        [
         "13",
         "False",
         "False",
         "False"
        ],
        [
         "14",
         "False",
         "False",
         "False"
        ],
        [
         "15",
         "False",
         "False",
         "False"
        ],
        [
         "16",
         "False",
         "False",
         "False"
        ],
        [
         "17",
         "False",
         "False",
         "False"
        ],
        [
         "18",
         "False",
         "False",
         "False"
        ],
        [
         "19",
         "False",
         "False",
         "False"
        ],
        [
         "20",
         "False",
         "False",
         "False"
        ],
        [
         "21",
         "False",
         "False",
         "False"
        ],
        [
         "22",
         "False",
         "False",
         "False"
        ],
        [
         "23",
         "False",
         "False",
         "False"
        ],
        [
         "24",
         "False",
         "False",
         "False"
        ],
        [
         "25",
         "False",
         "False",
         "False"
        ],
        [
         "26",
         "False",
         "False",
         "False"
        ],
        [
         "27",
         "False",
         "False",
         "False"
        ],
        [
         "28",
         "False",
         "False",
         "False"
        ],
        [
         "29",
         "False",
         "False",
         "False"
        ],
        [
         "30",
         "False",
         "False",
         "False"
        ],
        [
         "31",
         "False",
         "False",
         "False"
        ],
        [
         "32",
         "False",
         "False",
         "False"
        ],
        [
         "33",
         "False",
         "False",
         "False"
        ],
        [
         "34",
         "False",
         "False",
         "False"
        ],
        [
         "35",
         "False",
         "False",
         "False"
        ],
        [
         "36",
         "False",
         "False",
         "False"
        ],
        [
         "37",
         "False",
         "False",
         "False"
        ],
        [
         "38",
         "False",
         "False",
         "False"
        ],
        [
         "39",
         "False",
         "False",
         "False"
        ],
        [
         "40",
         "False",
         "False",
         "False"
        ],
        [
         "41",
         "False",
         "False",
         "False"
        ],
        [
         "42",
         "False",
         "False",
         "False"
        ],
        [
         "43",
         "False",
         "False",
         "False"
        ],
        [
         "44",
         "False",
         "False",
         "False"
        ],
        [
         "45",
         "False",
         "False",
         "False"
        ],
        [
         "46",
         "False",
         "False",
         "False"
        ],
        [
         "47",
         "False",
         "False",
         "False"
        ],
        [
         "48",
         "False",
         "False",
         "False"
        ],
        [
         "49",
         "False",
         "False",
         "False"
        ]
       ],
       "shape": {
        "columns": 3,
        "rows": 25000
       }
      },
      "text/html": [
       "<div>\n",
       "<style scoped>\n",
       "    .dataframe tbody tr th:only-of-type {\n",
       "        vertical-align: middle;\n",
       "    }\n",
       "\n",
       "    .dataframe tbody tr th {\n",
       "        vertical-align: top;\n",
       "    }\n",
       "\n",
       "    .dataframe thead th {\n",
       "        text-align: right;\n",
       "    }\n",
       "</style>\n",
       "<table border=\"1\" class=\"dataframe\">\n",
       "  <thead>\n",
       "    <tr style=\"text-align: right;\">\n",
       "      <th></th>\n",
       "      <th>Index</th>\n",
       "      <th>Height(Inches)</th>\n",
       "      <th>Weight(Pounds)</th>\n",
       "    </tr>\n",
       "  </thead>\n",
       "  <tbody>\n",
       "    <tr>\n",
       "      <th>0</th>\n",
       "      <td>False</td>\n",
       "      <td>False</td>\n",
       "      <td>False</td>\n",
       "    </tr>\n",
       "    <tr>\n",
       "      <th>1</th>\n",
       "      <td>False</td>\n",
       "      <td>False</td>\n",
       "      <td>False</td>\n",
       "    </tr>\n",
       "    <tr>\n",
       "      <th>2</th>\n",
       "      <td>False</td>\n",
       "      <td>False</td>\n",
       "      <td>False</td>\n",
       "    </tr>\n",
       "    <tr>\n",
       "      <th>3</th>\n",
       "      <td>False</td>\n",
       "      <td>False</td>\n",
       "      <td>False</td>\n",
       "    </tr>\n",
       "    <tr>\n",
       "      <th>4</th>\n",
       "      <td>False</td>\n",
       "      <td>False</td>\n",
       "      <td>False</td>\n",
       "    </tr>\n",
       "    <tr>\n",
       "      <th>...</th>\n",
       "      <td>...</td>\n",
       "      <td>...</td>\n",
       "      <td>...</td>\n",
       "    </tr>\n",
       "    <tr>\n",
       "      <th>24995</th>\n",
       "      <td>False</td>\n",
       "      <td>False</td>\n",
       "      <td>False</td>\n",
       "    </tr>\n",
       "    <tr>\n",
       "      <th>24996</th>\n",
       "      <td>False</td>\n",
       "      <td>False</td>\n",
       "      <td>False</td>\n",
       "    </tr>\n",
       "    <tr>\n",
       "      <th>24997</th>\n",
       "      <td>False</td>\n",
       "      <td>False</td>\n",
       "      <td>False</td>\n",
       "    </tr>\n",
       "    <tr>\n",
       "      <th>24998</th>\n",
       "      <td>False</td>\n",
       "      <td>False</td>\n",
       "      <td>False</td>\n",
       "    </tr>\n",
       "    <tr>\n",
       "      <th>24999</th>\n",
       "      <td>False</td>\n",
       "      <td>False</td>\n",
       "      <td>False</td>\n",
       "    </tr>\n",
       "  </tbody>\n",
       "</table>\n",
       "<p>25000 rows × 3 columns</p>\n",
       "</div>"
      ],
      "text/plain": [
       "       Index  Height(Inches)  Weight(Pounds)\n",
       "0      False           False           False\n",
       "1      False           False           False\n",
       "2      False           False           False\n",
       "3      False           False           False\n",
       "4      False           False           False\n",
       "...      ...             ...             ...\n",
       "24995  False           False           False\n",
       "24996  False           False           False\n",
       "24997  False           False           False\n",
       "24998  False           False           False\n",
       "24999  False           False           False\n",
       "\n",
       "[25000 rows x 3 columns]"
      ]
     },
     "execution_count": 11,
     "metadata": {},
     "output_type": "execute_result"
    }
   ],
   "source": [
    "df.isnull().isna()"
   ]
  },
  {
   "cell_type": "code",
   "execution_count": 12,
   "id": "38f17cad",
   "metadata": {},
   "outputs": [],
   "source": [
    "x=df[['Height(Inches)']]"
   ]
  },
  {
   "cell_type": "code",
   "execution_count": 13,
   "id": "4310f2f7",
   "metadata": {},
   "outputs": [],
   "source": [
    "y=df[\"Weight(Pounds)\"]"
   ]
  },
  {
   "cell_type": "code",
   "execution_count": 14,
   "id": "3ed1f4db",
   "metadata": {},
   "outputs": [
    {
     "data": {
      "text/plain": [
       "(       Height(Inches)\n",
       " 0            65.78331\n",
       " 1            71.51521\n",
       " 2            69.39874\n",
       " 3            68.21660\n",
       " 4            67.78781\n",
       " ...               ...\n",
       " 24995        69.50215\n",
       " 24996        64.54826\n",
       " 24997        64.69855\n",
       " 24998        67.52918\n",
       " 24999        68.87761\n",
       " \n",
       " [25000 rows x 1 columns],\n",
       " 0    112.9925\n",
       " 1    136.4873\n",
       " 2    153.0269\n",
       " 3    142.3354\n",
       " 4    144.2971\n",
       " Name: Weight(Pounds), dtype: float64)"
      ]
     },
     "execution_count": 14,
     "metadata": {},
     "output_type": "execute_result"
    }
   ],
   "source": [
    "x,y.head()"
   ]
  },
  {
   "cell_type": "code",
   "execution_count": 15,
   "id": "f5c54fdc",
   "metadata": {},
   "outputs": [],
   "source": [
    "x_train,x_test,y_train,y_test = train_test_split(x,y,test_size=0.2)"
   ]
  },
  {
   "cell_type": "code",
   "execution_count": 16,
   "id": "40172f2d",
   "metadata": {},
   "outputs": [],
   "source": [
    "linear = LinearRegression()"
   ]
  },
  {
   "cell_type": "code",
   "execution_count": 17,
   "id": "35313d50",
   "metadata": {},
   "outputs": [
    {
     "data": {
      "application/vnd.microsoft.datawrangler.viewer.v0+json": {
       "columns": [
        {
         "name": "index",
         "rawType": "int64",
         "type": "integer"
        },
        {
         "name": "Height(Inches)",
         "rawType": "float64",
         "type": "float"
        }
       ],
       "ref": "253b4fc5-e1ec-47f2-b730-e6aef4ac47c7",
       "rows": [
        [
         "2241",
         "71.57674"
        ],
        [
         "21781",
         "65.7642"
        ],
        [
         "10675",
         "67.28152"
        ],
        [
         "18535",
         "68.23747"
        ],
        [
         "9747",
         "68.16834"
        ],
        [
         "17867",
         "69.49899"
        ],
        [
         "6226",
         "66.87539"
        ],
        [
         "21174",
         "67.72728"
        ],
        [
         "10115",
         "68.51561"
        ],
        [
         "3889",
         "64.48357"
        ],
        [
         "19683",
         "66.68902"
        ],
        [
         "10805",
         "67.18894"
        ],
        [
         "17214",
         "70.69405"
        ],
        [
         "5753",
         "71.35055"
        ],
        [
         "8564",
         "67.61832"
        ],
        [
         "15677",
         "66.64326"
        ],
        [
         "12774",
         "66.20549"
        ],
        [
         "1711",
         "66.2865"
        ],
        [
         "2001",
         "68.69462"
        ],
        [
         "17373",
         "68.39615"
        ],
        [
         "13464",
         "67.72308"
        ],
        [
         "9940",
         "69.69323"
        ],
        [
         "3226",
         "65.8284"
        ],
        [
         "11252",
         "68.66193"
        ],
        [
         "18644",
         "65.88912"
        ],
        [
         "17849",
         "68.16405"
        ],
        [
         "7037",
         "67.60595"
        ],
        [
         "869",
         "68.34086"
        ],
        [
         "9792",
         "68.42655"
        ],
        [
         "17870",
         "66.74223"
        ],
        [
         "12771",
         "67.63851"
        ],
        [
         "14999",
         "68.83483"
        ],
        [
         "22784",
         "67.87211"
        ],
        [
         "7990",
         "67.65053"
        ],
        [
         "18131",
         "68.97598"
        ],
        [
         "3331",
         "70.0236"
        ],
        [
         "7994",
         "67.74935"
        ],
        [
         "19631",
         "71.13318"
        ],
        [
         "24847",
         "69.51891"
        ],
        [
         "12251",
         "68.33872"
        ],
        [
         "14966",
         "66.16765"
        ],
        [
         "12508",
         "68.5202"
        ],
        [
         "1025",
         "69.03858"
        ],
        [
         "6848",
         "64.91466"
        ],
        [
         "4908",
         "68.43992"
        ],
        [
         "4272",
         "69.18516"
        ],
        [
         "8397",
         "66.65252"
        ],
        [
         "3142",
         "65.86034"
        ],
        [
         "10548",
         "65.53319"
        ],
        [
         "5701",
         "66.17694"
        ]
       ],
       "shape": {
        "columns": 1,
        "rows": 5000
       }
      },
      "text/html": [
       "<div>\n",
       "<style scoped>\n",
       "    .dataframe tbody tr th:only-of-type {\n",
       "        vertical-align: middle;\n",
       "    }\n",
       "\n",
       "    .dataframe tbody tr th {\n",
       "        vertical-align: top;\n",
       "    }\n",
       "\n",
       "    .dataframe thead th {\n",
       "        text-align: right;\n",
       "    }\n",
       "</style>\n",
       "<table border=\"1\" class=\"dataframe\">\n",
       "  <thead>\n",
       "    <tr style=\"text-align: right;\">\n",
       "      <th></th>\n",
       "      <th>Height(Inches)</th>\n",
       "    </tr>\n",
       "  </thead>\n",
       "  <tbody>\n",
       "    <tr>\n",
       "      <th>2241</th>\n",
       "      <td>71.57674</td>\n",
       "    </tr>\n",
       "    <tr>\n",
       "      <th>21781</th>\n",
       "      <td>65.76420</td>\n",
       "    </tr>\n",
       "    <tr>\n",
       "      <th>10675</th>\n",
       "      <td>67.28152</td>\n",
       "    </tr>\n",
       "    <tr>\n",
       "      <th>18535</th>\n",
       "      <td>68.23747</td>\n",
       "    </tr>\n",
       "    <tr>\n",
       "      <th>9747</th>\n",
       "      <td>68.16834</td>\n",
       "    </tr>\n",
       "    <tr>\n",
       "      <th>...</th>\n",
       "      <td>...</td>\n",
       "    </tr>\n",
       "    <tr>\n",
       "      <th>24063</th>\n",
       "      <td>67.98720</td>\n",
       "    </tr>\n",
       "    <tr>\n",
       "      <th>23453</th>\n",
       "      <td>70.66323</td>\n",
       "    </tr>\n",
       "    <tr>\n",
       "      <th>6277</th>\n",
       "      <td>68.69337</td>\n",
       "    </tr>\n",
       "    <tr>\n",
       "      <th>1894</th>\n",
       "      <td>70.18385</td>\n",
       "    </tr>\n",
       "    <tr>\n",
       "      <th>6507</th>\n",
       "      <td>69.08622</td>\n",
       "    </tr>\n",
       "  </tbody>\n",
       "</table>\n",
       "<p>5000 rows × 1 columns</p>\n",
       "</div>"
      ],
      "text/plain": [
       "       Height(Inches)\n",
       "2241         71.57674\n",
       "21781        65.76420\n",
       "10675        67.28152\n",
       "18535        68.23747\n",
       "9747         68.16834\n",
       "...               ...\n",
       "24063        67.98720\n",
       "23453        70.66323\n",
       "6277         68.69337\n",
       "1894         70.18385\n",
       "6507         69.08622\n",
       "\n",
       "[5000 rows x 1 columns]"
      ]
     },
     "execution_count": 17,
     "metadata": {},
     "output_type": "execute_result"
    }
   ],
   "source": [
    "x_test"
   ]
  },
  {
   "cell_type": "code",
   "execution_count": 18,
   "id": "2d40066d",
   "metadata": {},
   "outputs": [
    {
     "data": {
      "application/vnd.microsoft.datawrangler.viewer.v0+json": {
       "columns": [
        {
         "name": "index",
         "rawType": "int64",
         "type": "integer"
        },
        {
         "name": "Height(Inches)",
         "rawType": "float64",
         "type": "float"
        }
       ],
       "ref": "e5d691b2-8bad-4e42-9c03-fa5c51e5b4dc",
       "rows": [
        [
         "5445",
         "66.09346"
        ],
        [
         "619",
         "68.2034"
        ],
        [
         "18448",
         "69.236"
        ],
        [
         "18368",
         "68.77322"
        ],
        [
         "2963",
         "68.12331"
        ],
        [
         "6718",
         "69.73864"
        ],
        [
         "17206",
         "69.89894"
        ],
        [
         "1885",
         "66.2121"
        ],
        [
         "5802",
         "66.17003"
        ],
        [
         "18260",
         "69.99829"
        ],
        [
         "14811",
         "69.49145"
        ],
        [
         "20422",
         "69.07965"
        ],
        [
         "4253",
         "67.4692"
        ],
        [
         "8140",
         "69.8535"
        ],
        [
         "20025",
         "69.36726"
        ],
        [
         "15867",
         "70.48029"
        ],
        [
         "11519",
         "65.46233"
        ],
        [
         "2225",
         "69.92456"
        ],
        [
         "8627",
         "71.60477"
        ],
        [
         "4596",
         "68.37668"
        ],
        [
         "20665",
         "67.76199"
        ],
        [
         "1709",
         "68.72443"
        ],
        [
         "19336",
         "69.82743"
        ],
        [
         "13177",
         "67.78284"
        ],
        [
         "10238",
         "68.03691"
        ],
        [
         "20046",
         "67.60125"
        ],
        [
         "10525",
         "67.70321"
        ],
        [
         "19600",
         "67.61576"
        ],
        [
         "7804",
         "67.89813"
        ],
        [
         "3163",
         "64.34648"
        ],
        [
         "16928",
         "70.57617"
        ],
        [
         "23202",
         "70.06942"
        ],
        [
         "17288",
         "70.45755"
        ],
        [
         "18483",
         "71.02956"
        ],
        [
         "23749",
         "70.15169"
        ],
        [
         "24087",
         "67.97518"
        ],
        [
         "22942",
         "69.6518"
        ],
        [
         "20481",
         "71.46543"
        ],
        [
         "19338",
         "67.54366"
        ],
        [
         "1124",
         "70.51481"
        ],
        [
         "18858",
         "70.21849"
        ],
        [
         "14560",
         "67.45289"
        ],
        [
         "17633",
         "68.47311"
        ],
        [
         "23902",
         "69.21079"
        ],
        [
         "18747",
         "69.04551"
        ],
        [
         "9307",
         "68.20773"
        ],
        [
         "4096",
         "68.48589"
        ],
        [
         "7816",
         "68.85889"
        ],
        [
         "20684",
         "69.43772"
        ],
        [
         "13711",
         "66.3712"
        ]
       ],
       "shape": {
        "columns": 1,
        "rows": 20000
       }
      },
      "text/html": [
       "<div>\n",
       "<style scoped>\n",
       "    .dataframe tbody tr th:only-of-type {\n",
       "        vertical-align: middle;\n",
       "    }\n",
       "\n",
       "    .dataframe tbody tr th {\n",
       "        vertical-align: top;\n",
       "    }\n",
       "\n",
       "    .dataframe thead th {\n",
       "        text-align: right;\n",
       "    }\n",
       "</style>\n",
       "<table border=\"1\" class=\"dataframe\">\n",
       "  <thead>\n",
       "    <tr style=\"text-align: right;\">\n",
       "      <th></th>\n",
       "      <th>Height(Inches)</th>\n",
       "    </tr>\n",
       "  </thead>\n",
       "  <tbody>\n",
       "    <tr>\n",
       "      <th>5445</th>\n",
       "      <td>66.09346</td>\n",
       "    </tr>\n",
       "    <tr>\n",
       "      <th>619</th>\n",
       "      <td>68.20340</td>\n",
       "    </tr>\n",
       "    <tr>\n",
       "      <th>18448</th>\n",
       "      <td>69.23600</td>\n",
       "    </tr>\n",
       "    <tr>\n",
       "      <th>18368</th>\n",
       "      <td>68.77322</td>\n",
       "    </tr>\n",
       "    <tr>\n",
       "      <th>2963</th>\n",
       "      <td>68.12331</td>\n",
       "    </tr>\n",
       "    <tr>\n",
       "      <th>...</th>\n",
       "      <td>...</td>\n",
       "    </tr>\n",
       "    <tr>\n",
       "      <th>19917</th>\n",
       "      <td>69.27083</td>\n",
       "    </tr>\n",
       "    <tr>\n",
       "      <th>8001</th>\n",
       "      <td>66.60311</td>\n",
       "    </tr>\n",
       "    <tr>\n",
       "      <th>13491</th>\n",
       "      <td>64.08903</td>\n",
       "    </tr>\n",
       "    <tr>\n",
       "      <th>926</th>\n",
       "      <td>69.36588</td>\n",
       "    </tr>\n",
       "    <tr>\n",
       "      <th>19564</th>\n",
       "      <td>64.98716</td>\n",
       "    </tr>\n",
       "  </tbody>\n",
       "</table>\n",
       "<p>20000 rows × 1 columns</p>\n",
       "</div>"
      ],
      "text/plain": [
       "       Height(Inches)\n",
       "5445         66.09346\n",
       "619          68.20340\n",
       "18448        69.23600\n",
       "18368        68.77322\n",
       "2963         68.12331\n",
       "...               ...\n",
       "19917        69.27083\n",
       "8001         66.60311\n",
       "13491        64.08903\n",
       "926          69.36588\n",
       "19564        64.98716\n",
       "\n",
       "[20000 rows x 1 columns]"
      ]
     },
     "execution_count": 18,
     "metadata": {},
     "output_type": "execute_result"
    }
   ],
   "source": [
    "x_train"
   ]
  },
  {
   "cell_type": "code",
   "execution_count": 19,
   "id": "48a37915",
   "metadata": {},
   "outputs": [
    {
     "data": {
      "text/html": [
       "<style>#sk-container-id-1 {\n",
       "  /* Definition of color scheme common for light and dark mode */\n",
       "  --sklearn-color-text: #000;\n",
       "  --sklearn-color-text-muted: #666;\n",
       "  --sklearn-color-line: gray;\n",
       "  /* Definition of color scheme for unfitted estimators */\n",
       "  --sklearn-color-unfitted-level-0: #fff5e6;\n",
       "  --sklearn-color-unfitted-level-1: #f6e4d2;\n",
       "  --sklearn-color-unfitted-level-2: #ffe0b3;\n",
       "  --sklearn-color-unfitted-level-3: chocolate;\n",
       "  /* Definition of color scheme for fitted estimators */\n",
       "  --sklearn-color-fitted-level-0: #f0f8ff;\n",
       "  --sklearn-color-fitted-level-1: #d4ebff;\n",
       "  --sklearn-color-fitted-level-2: #b3dbfd;\n",
       "  --sklearn-color-fitted-level-3: cornflowerblue;\n",
       "\n",
       "  /* Specific color for light theme */\n",
       "  --sklearn-color-text-on-default-background: var(--sg-text-color, var(--theme-code-foreground, var(--jp-content-font-color1, black)));\n",
       "  --sklearn-color-background: var(--sg-background-color, var(--theme-background, var(--jp-layout-color0, white)));\n",
       "  --sklearn-color-border-box: var(--sg-text-color, var(--theme-code-foreground, var(--jp-content-font-color1, black)));\n",
       "  --sklearn-color-icon: #696969;\n",
       "\n",
       "  @media (prefers-color-scheme: dark) {\n",
       "    /* Redefinition of color scheme for dark theme */\n",
       "    --sklearn-color-text-on-default-background: var(--sg-text-color, var(--theme-code-foreground, var(--jp-content-font-color1, white)));\n",
       "    --sklearn-color-background: var(--sg-background-color, var(--theme-background, var(--jp-layout-color0, #111)));\n",
       "    --sklearn-color-border-box: var(--sg-text-color, var(--theme-code-foreground, var(--jp-content-font-color1, white)));\n",
       "    --sklearn-color-icon: #878787;\n",
       "  }\n",
       "}\n",
       "\n",
       "#sk-container-id-1 {\n",
       "  color: var(--sklearn-color-text);\n",
       "}\n",
       "\n",
       "#sk-container-id-1 pre {\n",
       "  padding: 0;\n",
       "}\n",
       "\n",
       "#sk-container-id-1 input.sk-hidden--visually {\n",
       "  border: 0;\n",
       "  clip: rect(1px 1px 1px 1px);\n",
       "  clip: rect(1px, 1px, 1px, 1px);\n",
       "  height: 1px;\n",
       "  margin: -1px;\n",
       "  overflow: hidden;\n",
       "  padding: 0;\n",
       "  position: absolute;\n",
       "  width: 1px;\n",
       "}\n",
       "\n",
       "#sk-container-id-1 div.sk-dashed-wrapped {\n",
       "  border: 1px dashed var(--sklearn-color-line);\n",
       "  margin: 0 0.4em 0.5em 0.4em;\n",
       "  box-sizing: border-box;\n",
       "  padding-bottom: 0.4em;\n",
       "  background-color: var(--sklearn-color-background);\n",
       "}\n",
       "\n",
       "#sk-container-id-1 div.sk-container {\n",
       "  /* jupyter's `normalize.less` sets `[hidden] { display: none; }`\n",
       "     but bootstrap.min.css set `[hidden] { display: none !important; }`\n",
       "     so we also need the `!important` here to be able to override the\n",
       "     default hidden behavior on the sphinx rendered scikit-learn.org.\n",
       "     See: https://github.com/scikit-learn/scikit-learn/issues/21755 */\n",
       "  display: inline-block !important;\n",
       "  position: relative;\n",
       "}\n",
       "\n",
       "#sk-container-id-1 div.sk-text-repr-fallback {\n",
       "  display: none;\n",
       "}\n",
       "\n",
       "div.sk-parallel-item,\n",
       "div.sk-serial,\n",
       "div.sk-item {\n",
       "  /* draw centered vertical line to link estimators */\n",
       "  background-image: linear-gradient(var(--sklearn-color-text-on-default-background), var(--sklearn-color-text-on-default-background));\n",
       "  background-size: 2px 100%;\n",
       "  background-repeat: no-repeat;\n",
       "  background-position: center center;\n",
       "}\n",
       "\n",
       "/* Parallel-specific style estimator block */\n",
       "\n",
       "#sk-container-id-1 div.sk-parallel-item::after {\n",
       "  content: \"\";\n",
       "  width: 100%;\n",
       "  border-bottom: 2px solid var(--sklearn-color-text-on-default-background);\n",
       "  flex-grow: 1;\n",
       "}\n",
       "\n",
       "#sk-container-id-1 div.sk-parallel {\n",
       "  display: flex;\n",
       "  align-items: stretch;\n",
       "  justify-content: center;\n",
       "  background-color: var(--sklearn-color-background);\n",
       "  position: relative;\n",
       "}\n",
       "\n",
       "#sk-container-id-1 div.sk-parallel-item {\n",
       "  display: flex;\n",
       "  flex-direction: column;\n",
       "}\n",
       "\n",
       "#sk-container-id-1 div.sk-parallel-item:first-child::after {\n",
       "  align-self: flex-end;\n",
       "  width: 50%;\n",
       "}\n",
       "\n",
       "#sk-container-id-1 div.sk-parallel-item:last-child::after {\n",
       "  align-self: flex-start;\n",
       "  width: 50%;\n",
       "}\n",
       "\n",
       "#sk-container-id-1 div.sk-parallel-item:only-child::after {\n",
       "  width: 0;\n",
       "}\n",
       "\n",
       "/* Serial-specific style estimator block */\n",
       "\n",
       "#sk-container-id-1 div.sk-serial {\n",
       "  display: flex;\n",
       "  flex-direction: column;\n",
       "  align-items: center;\n",
       "  background-color: var(--sklearn-color-background);\n",
       "  padding-right: 1em;\n",
       "  padding-left: 1em;\n",
       "}\n",
       "\n",
       "\n",
       "/* Toggleable style: style used for estimator/Pipeline/ColumnTransformer box that is\n",
       "clickable and can be expanded/collapsed.\n",
       "- Pipeline and ColumnTransformer use this feature and define the default style\n",
       "- Estimators will overwrite some part of the style using the `sk-estimator` class\n",
       "*/\n",
       "\n",
       "/* Pipeline and ColumnTransformer style (default) */\n",
       "\n",
       "#sk-container-id-1 div.sk-toggleable {\n",
       "  /* Default theme specific background. It is overwritten whether we have a\n",
       "  specific estimator or a Pipeline/ColumnTransformer */\n",
       "  background-color: var(--sklearn-color-background);\n",
       "}\n",
       "\n",
       "/* Toggleable label */\n",
       "#sk-container-id-1 label.sk-toggleable__label {\n",
       "  cursor: pointer;\n",
       "  display: flex;\n",
       "  width: 100%;\n",
       "  margin-bottom: 0;\n",
       "  padding: 0.5em;\n",
       "  box-sizing: border-box;\n",
       "  text-align: center;\n",
       "  align-items: start;\n",
       "  justify-content: space-between;\n",
       "  gap: 0.5em;\n",
       "}\n",
       "\n",
       "#sk-container-id-1 label.sk-toggleable__label .caption {\n",
       "  font-size: 0.6rem;\n",
       "  font-weight: lighter;\n",
       "  color: var(--sklearn-color-text-muted);\n",
       "}\n",
       "\n",
       "#sk-container-id-1 label.sk-toggleable__label-arrow:before {\n",
       "  /* Arrow on the left of the label */\n",
       "  content: \"▸\";\n",
       "  float: left;\n",
       "  margin-right: 0.25em;\n",
       "  color: var(--sklearn-color-icon);\n",
       "}\n",
       "\n",
       "#sk-container-id-1 label.sk-toggleable__label-arrow:hover:before {\n",
       "  color: var(--sklearn-color-text);\n",
       "}\n",
       "\n",
       "/* Toggleable content - dropdown */\n",
       "\n",
       "#sk-container-id-1 div.sk-toggleable__content {\n",
       "  display: none;\n",
       "  text-align: left;\n",
       "  /* unfitted */\n",
       "  background-color: var(--sklearn-color-unfitted-level-0);\n",
       "}\n",
       "\n",
       "#sk-container-id-1 div.sk-toggleable__content.fitted {\n",
       "  /* fitted */\n",
       "  background-color: var(--sklearn-color-fitted-level-0);\n",
       "}\n",
       "\n",
       "#sk-container-id-1 div.sk-toggleable__content pre {\n",
       "  margin: 0.2em;\n",
       "  border-radius: 0.25em;\n",
       "  color: var(--sklearn-color-text);\n",
       "  /* unfitted */\n",
       "  background-color: var(--sklearn-color-unfitted-level-0);\n",
       "}\n",
       "\n",
       "#sk-container-id-1 div.sk-toggleable__content.fitted pre {\n",
       "  /* unfitted */\n",
       "  background-color: var(--sklearn-color-fitted-level-0);\n",
       "}\n",
       "\n",
       "#sk-container-id-1 input.sk-toggleable__control:checked~div.sk-toggleable__content {\n",
       "  /* Expand drop-down */\n",
       "  display: block;\n",
       "  width: 100%;\n",
       "  overflow: visible;\n",
       "}\n",
       "\n",
       "#sk-container-id-1 input.sk-toggleable__control:checked~label.sk-toggleable__label-arrow:before {\n",
       "  content: \"▾\";\n",
       "}\n",
       "\n",
       "/* Pipeline/ColumnTransformer-specific style */\n",
       "\n",
       "#sk-container-id-1 div.sk-label input.sk-toggleable__control:checked~label.sk-toggleable__label {\n",
       "  color: var(--sklearn-color-text);\n",
       "  background-color: var(--sklearn-color-unfitted-level-2);\n",
       "}\n",
       "\n",
       "#sk-container-id-1 div.sk-label.fitted input.sk-toggleable__control:checked~label.sk-toggleable__label {\n",
       "  background-color: var(--sklearn-color-fitted-level-2);\n",
       "}\n",
       "\n",
       "/* Estimator-specific style */\n",
       "\n",
       "/* Colorize estimator box */\n",
       "#sk-container-id-1 div.sk-estimator input.sk-toggleable__control:checked~label.sk-toggleable__label {\n",
       "  /* unfitted */\n",
       "  background-color: var(--sklearn-color-unfitted-level-2);\n",
       "}\n",
       "\n",
       "#sk-container-id-1 div.sk-estimator.fitted input.sk-toggleable__control:checked~label.sk-toggleable__label {\n",
       "  /* fitted */\n",
       "  background-color: var(--sklearn-color-fitted-level-2);\n",
       "}\n",
       "\n",
       "#sk-container-id-1 div.sk-label label.sk-toggleable__label,\n",
       "#sk-container-id-1 div.sk-label label {\n",
       "  /* The background is the default theme color */\n",
       "  color: var(--sklearn-color-text-on-default-background);\n",
       "}\n",
       "\n",
       "/* On hover, darken the color of the background */\n",
       "#sk-container-id-1 div.sk-label:hover label.sk-toggleable__label {\n",
       "  color: var(--sklearn-color-text);\n",
       "  background-color: var(--sklearn-color-unfitted-level-2);\n",
       "}\n",
       "\n",
       "/* Label box, darken color on hover, fitted */\n",
       "#sk-container-id-1 div.sk-label.fitted:hover label.sk-toggleable__label.fitted {\n",
       "  color: var(--sklearn-color-text);\n",
       "  background-color: var(--sklearn-color-fitted-level-2);\n",
       "}\n",
       "\n",
       "/* Estimator label */\n",
       "\n",
       "#sk-container-id-1 div.sk-label label {\n",
       "  font-family: monospace;\n",
       "  font-weight: bold;\n",
       "  display: inline-block;\n",
       "  line-height: 1.2em;\n",
       "}\n",
       "\n",
       "#sk-container-id-1 div.sk-label-container {\n",
       "  text-align: center;\n",
       "}\n",
       "\n",
       "/* Estimator-specific */\n",
       "#sk-container-id-1 div.sk-estimator {\n",
       "  font-family: monospace;\n",
       "  border: 1px dotted var(--sklearn-color-border-box);\n",
       "  border-radius: 0.25em;\n",
       "  box-sizing: border-box;\n",
       "  margin-bottom: 0.5em;\n",
       "  /* unfitted */\n",
       "  background-color: var(--sklearn-color-unfitted-level-0);\n",
       "}\n",
       "\n",
       "#sk-container-id-1 div.sk-estimator.fitted {\n",
       "  /* fitted */\n",
       "  background-color: var(--sklearn-color-fitted-level-0);\n",
       "}\n",
       "\n",
       "/* on hover */\n",
       "#sk-container-id-1 div.sk-estimator:hover {\n",
       "  /* unfitted */\n",
       "  background-color: var(--sklearn-color-unfitted-level-2);\n",
       "}\n",
       "\n",
       "#sk-container-id-1 div.sk-estimator.fitted:hover {\n",
       "  /* fitted */\n",
       "  background-color: var(--sklearn-color-fitted-level-2);\n",
       "}\n",
       "\n",
       "/* Specification for estimator info (e.g. \"i\" and \"?\") */\n",
       "\n",
       "/* Common style for \"i\" and \"?\" */\n",
       "\n",
       ".sk-estimator-doc-link,\n",
       "a:link.sk-estimator-doc-link,\n",
       "a:visited.sk-estimator-doc-link {\n",
       "  float: right;\n",
       "  font-size: smaller;\n",
       "  line-height: 1em;\n",
       "  font-family: monospace;\n",
       "  background-color: var(--sklearn-color-background);\n",
       "  border-radius: 1em;\n",
       "  height: 1em;\n",
       "  width: 1em;\n",
       "  text-decoration: none !important;\n",
       "  margin-left: 0.5em;\n",
       "  text-align: center;\n",
       "  /* unfitted */\n",
       "  border: var(--sklearn-color-unfitted-level-1) 1pt solid;\n",
       "  color: var(--sklearn-color-unfitted-level-1);\n",
       "}\n",
       "\n",
       ".sk-estimator-doc-link.fitted,\n",
       "a:link.sk-estimator-doc-link.fitted,\n",
       "a:visited.sk-estimator-doc-link.fitted {\n",
       "  /* fitted */\n",
       "  border: var(--sklearn-color-fitted-level-1) 1pt solid;\n",
       "  color: var(--sklearn-color-fitted-level-1);\n",
       "}\n",
       "\n",
       "/* On hover */\n",
       "div.sk-estimator:hover .sk-estimator-doc-link:hover,\n",
       ".sk-estimator-doc-link:hover,\n",
       "div.sk-label-container:hover .sk-estimator-doc-link:hover,\n",
       ".sk-estimator-doc-link:hover {\n",
       "  /* unfitted */\n",
       "  background-color: var(--sklearn-color-unfitted-level-3);\n",
       "  color: var(--sklearn-color-background);\n",
       "  text-decoration: none;\n",
       "}\n",
       "\n",
       "div.sk-estimator.fitted:hover .sk-estimator-doc-link.fitted:hover,\n",
       ".sk-estimator-doc-link.fitted:hover,\n",
       "div.sk-label-container:hover .sk-estimator-doc-link.fitted:hover,\n",
       ".sk-estimator-doc-link.fitted:hover {\n",
       "  /* fitted */\n",
       "  background-color: var(--sklearn-color-fitted-level-3);\n",
       "  color: var(--sklearn-color-background);\n",
       "  text-decoration: none;\n",
       "}\n",
       "\n",
       "/* Span, style for the box shown on hovering the info icon */\n",
       ".sk-estimator-doc-link span {\n",
       "  display: none;\n",
       "  z-index: 9999;\n",
       "  position: relative;\n",
       "  font-weight: normal;\n",
       "  right: .2ex;\n",
       "  padding: .5ex;\n",
       "  margin: .5ex;\n",
       "  width: min-content;\n",
       "  min-width: 20ex;\n",
       "  max-width: 50ex;\n",
       "  color: var(--sklearn-color-text);\n",
       "  box-shadow: 2pt 2pt 4pt #999;\n",
       "  /* unfitted */\n",
       "  background: var(--sklearn-color-unfitted-level-0);\n",
       "  border: .5pt solid var(--sklearn-color-unfitted-level-3);\n",
       "}\n",
       "\n",
       ".sk-estimator-doc-link.fitted span {\n",
       "  /* fitted */\n",
       "  background: var(--sklearn-color-fitted-level-0);\n",
       "  border: var(--sklearn-color-fitted-level-3);\n",
       "}\n",
       "\n",
       ".sk-estimator-doc-link:hover span {\n",
       "  display: block;\n",
       "}\n",
       "\n",
       "/* \"?\"-specific style due to the `<a>` HTML tag */\n",
       "\n",
       "#sk-container-id-1 a.estimator_doc_link {\n",
       "  float: right;\n",
       "  font-size: 1rem;\n",
       "  line-height: 1em;\n",
       "  font-family: monospace;\n",
       "  background-color: var(--sklearn-color-background);\n",
       "  border-radius: 1rem;\n",
       "  height: 1rem;\n",
       "  width: 1rem;\n",
       "  text-decoration: none;\n",
       "  /* unfitted */\n",
       "  color: var(--sklearn-color-unfitted-level-1);\n",
       "  border: var(--sklearn-color-unfitted-level-1) 1pt solid;\n",
       "}\n",
       "\n",
       "#sk-container-id-1 a.estimator_doc_link.fitted {\n",
       "  /* fitted */\n",
       "  border: var(--sklearn-color-fitted-level-1) 1pt solid;\n",
       "  color: var(--sklearn-color-fitted-level-1);\n",
       "}\n",
       "\n",
       "/* On hover */\n",
       "#sk-container-id-1 a.estimator_doc_link:hover {\n",
       "  /* unfitted */\n",
       "  background-color: var(--sklearn-color-unfitted-level-3);\n",
       "  color: var(--sklearn-color-background);\n",
       "  text-decoration: none;\n",
       "}\n",
       "\n",
       "#sk-container-id-1 a.estimator_doc_link.fitted:hover {\n",
       "  /* fitted */\n",
       "  background-color: var(--sklearn-color-fitted-level-3);\n",
       "}\n",
       "\n",
       ".estimator-table summary {\n",
       "    padding: .5rem;\n",
       "    font-family: monospace;\n",
       "    cursor: pointer;\n",
       "}\n",
       "\n",
       ".estimator-table details[open] {\n",
       "    padding-left: 0.1rem;\n",
       "    padding-right: 0.1rem;\n",
       "    padding-bottom: 0.3rem;\n",
       "}\n",
       "\n",
       ".estimator-table .parameters-table {\n",
       "    margin-left: auto !important;\n",
       "    margin-right: auto !important;\n",
       "}\n",
       "\n",
       ".estimator-table .parameters-table tr:nth-child(odd) {\n",
       "    background-color: #fff;\n",
       "}\n",
       "\n",
       ".estimator-table .parameters-table tr:nth-child(even) {\n",
       "    background-color: #f6f6f6;\n",
       "}\n",
       "\n",
       ".estimator-table .parameters-table tr:hover {\n",
       "    background-color: #e0e0e0;\n",
       "}\n",
       "\n",
       ".estimator-table table td {\n",
       "    border: 1px solid rgba(106, 105, 104, 0.232);\n",
       "}\n",
       "\n",
       ".user-set td {\n",
       "    color:rgb(255, 94, 0);\n",
       "    text-align: left;\n",
       "}\n",
       "\n",
       ".user-set td.value pre {\n",
       "    color:rgb(255, 94, 0) !important;\n",
       "    background-color: transparent !important;\n",
       "}\n",
       "\n",
       ".default td {\n",
       "    color: black;\n",
       "    text-align: left;\n",
       "}\n",
       "\n",
       ".user-set td i,\n",
       ".default td i {\n",
       "    color: black;\n",
       "}\n",
       "\n",
       ".copy-paste-icon {\n",
       "    background-image: url(data:image/svg+xml;base64,PHN2ZyB4bWxucz0iaHR0cDovL3d3dy53My5vcmcvMjAwMC9zdmciIHZpZXdCb3g9IjAgMCA0NDggNTEyIj48IS0tIUZvbnQgQXdlc29tZSBGcmVlIDYuNy4yIGJ5IEBmb250YXdlc29tZSAtIGh0dHBzOi8vZm9udGF3ZXNvbWUuY29tIExpY2Vuc2UgLSBodHRwczovL2ZvbnRhd2Vzb21lLmNvbS9saWNlbnNlL2ZyZWUgQ29weXJpZ2h0IDIwMjUgRm9udGljb25zLCBJbmMuLS0+PHBhdGggZD0iTTIwOCAwTDMzMi4xIDBjMTIuNyAwIDI0LjkgNS4xIDMzLjkgMTQuMWw2Ny45IDY3LjljOSA5IDE0LjEgMjEuMiAxNC4xIDMzLjlMNDQ4IDMzNmMwIDI2LjUtMjEuNSA0OC00OCA0OGwtMTkyIDBjLTI2LjUgMC00OC0yMS41LTQ4LTQ4bDAtMjg4YzAtMjYuNSAyMS41LTQ4IDQ4LTQ4ek00OCAxMjhsODAgMCAwIDY0LTY0IDAgMCAyNTYgMTkyIDAgMC0zMiA2NCAwIDAgNDhjMCAyNi41LTIxLjUgNDgtNDggNDhMNDggNTEyYy0yNi41IDAtNDgtMjEuNS00OC00OEwwIDE3NmMwLTI2LjUgMjEuNS00OCA0OC00OHoiLz48L3N2Zz4=);\n",
       "    background-repeat: no-repeat;\n",
       "    background-size: 14px 14px;\n",
       "    background-position: 0;\n",
       "    display: inline-block;\n",
       "    width: 14px;\n",
       "    height: 14px;\n",
       "    cursor: pointer;\n",
       "}\n",
       "</style><body><div id=\"sk-container-id-1\" class=\"sk-top-container\"><div class=\"sk-text-repr-fallback\"><pre>LinearRegression()</pre><b>In a Jupyter environment, please rerun this cell to show the HTML representation or trust the notebook. <br />On GitHub, the HTML representation is unable to render, please try loading this page with nbviewer.org.</b></div><div class=\"sk-container\" hidden><div class=\"sk-item\"><div class=\"sk-estimator fitted sk-toggleable\"><input class=\"sk-toggleable__control sk-hidden--visually\" id=\"sk-estimator-id-1\" type=\"checkbox\" checked><label for=\"sk-estimator-id-1\" class=\"sk-toggleable__label fitted sk-toggleable__label-arrow\"><div><div>LinearRegression</div></div><div><a class=\"sk-estimator-doc-link fitted\" rel=\"noreferrer\" target=\"_blank\" href=\"https://scikit-learn.org/1.7/modules/generated/sklearn.linear_model.LinearRegression.html\">?<span>Documentation for LinearRegression</span></a><span class=\"sk-estimator-doc-link fitted\">i<span>Fitted</span></span></div></label><div class=\"sk-toggleable__content fitted\" data-param-prefix=\"\">\n",
       "        <div class=\"estimator-table\">\n",
       "            <details>\n",
       "                <summary>Parameters</summary>\n",
       "                <table class=\"parameters-table\">\n",
       "                  <tbody>\n",
       "                    \n",
       "        <tr class=\"default\">\n",
       "            <td><i class=\"copy-paste-icon\"\n",
       "                 onclick=\"copyToClipboard('fit_intercept',\n",
       "                          this.parentElement.nextElementSibling)\"\n",
       "            ></i></td>\n",
       "            <td class=\"param\">fit_intercept&nbsp;</td>\n",
       "            <td class=\"value\">True</td>\n",
       "        </tr>\n",
       "    \n",
       "\n",
       "        <tr class=\"default\">\n",
       "            <td><i class=\"copy-paste-icon\"\n",
       "                 onclick=\"copyToClipboard('copy_X',\n",
       "                          this.parentElement.nextElementSibling)\"\n",
       "            ></i></td>\n",
       "            <td class=\"param\">copy_X&nbsp;</td>\n",
       "            <td class=\"value\">True</td>\n",
       "        </tr>\n",
       "    \n",
       "\n",
       "        <tr class=\"default\">\n",
       "            <td><i class=\"copy-paste-icon\"\n",
       "                 onclick=\"copyToClipboard('tol',\n",
       "                          this.parentElement.nextElementSibling)\"\n",
       "            ></i></td>\n",
       "            <td class=\"param\">tol&nbsp;</td>\n",
       "            <td class=\"value\">1e-06</td>\n",
       "        </tr>\n",
       "    \n",
       "\n",
       "        <tr class=\"default\">\n",
       "            <td><i class=\"copy-paste-icon\"\n",
       "                 onclick=\"copyToClipboard('n_jobs',\n",
       "                          this.parentElement.nextElementSibling)\"\n",
       "            ></i></td>\n",
       "            <td class=\"param\">n_jobs&nbsp;</td>\n",
       "            <td class=\"value\">None</td>\n",
       "        </tr>\n",
       "    \n",
       "\n",
       "        <tr class=\"default\">\n",
       "            <td><i class=\"copy-paste-icon\"\n",
       "                 onclick=\"copyToClipboard('positive',\n",
       "                          this.parentElement.nextElementSibling)\"\n",
       "            ></i></td>\n",
       "            <td class=\"param\">positive&nbsp;</td>\n",
       "            <td class=\"value\">False</td>\n",
       "        </tr>\n",
       "    \n",
       "                  </tbody>\n",
       "                </table>\n",
       "            </details>\n",
       "        </div>\n",
       "    </div></div></div></div></div><script>function copyToClipboard(text, element) {\n",
       "    // Get the parameter prefix from the closest toggleable content\n",
       "    const toggleableContent = element.closest('.sk-toggleable__content');\n",
       "    const paramPrefix = toggleableContent ? toggleableContent.dataset.paramPrefix : '';\n",
       "    const fullParamName = paramPrefix ? `${paramPrefix}${text}` : text;\n",
       "\n",
       "    const originalStyle = element.style;\n",
       "    const computedStyle = window.getComputedStyle(element);\n",
       "    const originalWidth = computedStyle.width;\n",
       "    const originalHTML = element.innerHTML.replace('Copied!', '');\n",
       "\n",
       "    navigator.clipboard.writeText(fullParamName)\n",
       "        .then(() => {\n",
       "            element.style.width = originalWidth;\n",
       "            element.style.color = 'green';\n",
       "            element.innerHTML = \"Copied!\";\n",
       "\n",
       "            setTimeout(() => {\n",
       "                element.innerHTML = originalHTML;\n",
       "                element.style = originalStyle;\n",
       "            }, 2000);\n",
       "        })\n",
       "        .catch(err => {\n",
       "            console.error('Failed to copy:', err);\n",
       "            element.style.color = 'red';\n",
       "            element.innerHTML = \"Failed!\";\n",
       "            setTimeout(() => {\n",
       "                element.innerHTML = originalHTML;\n",
       "                element.style = originalStyle;\n",
       "            }, 2000);\n",
       "        });\n",
       "    return false;\n",
       "}\n",
       "\n",
       "document.querySelectorAll('.fa-regular.fa-copy').forEach(function(element) {\n",
       "    const toggleableContent = element.closest('.sk-toggleable__content');\n",
       "    const paramPrefix = toggleableContent ? toggleableContent.dataset.paramPrefix : '';\n",
       "    const paramName = element.parentElement.nextElementSibling.textContent.trim();\n",
       "    const fullParamName = paramPrefix ? `${paramPrefix}${paramName}` : paramName;\n",
       "\n",
       "    element.setAttribute('title', fullParamName);\n",
       "});\n",
       "</script></body>"
      ],
      "text/plain": [
       "LinearRegression()"
      ]
     },
     "execution_count": 19,
     "metadata": {},
     "output_type": "execute_result"
    }
   ],
   "source": [
    "linear.fit(x_train,y_train)"
   ]
  },
  {
   "cell_type": "code",
   "execution_count": 20,
   "id": "ec0aac89",
   "metadata": {},
   "outputs": [
    {
     "data": {
      "text/plain": [
       "array([138.21236436, 120.11718555, 124.84079635, ..., 129.23606558,\n",
       "       133.87612003, 130.45905776])"
      ]
     },
     "execution_count": 20,
     "metadata": {},
     "output_type": "execute_result"
    }
   ],
   "source": [
    "linear.predict(x_test)"
   ]
  },
  {
   "cell_type": "code",
   "execution_count": 21,
   "id": "35224ff0",
   "metadata": {},
   "outputs": [
    {
     "data": {
      "application/vnd.microsoft.datawrangler.viewer.v0+json": {
       "columns": [
        {
         "name": "index",
         "rawType": "int64",
         "type": "integer"
        },
        {
         "name": "Weight(Pounds)",
         "rawType": "float64",
         "type": "float"
        }
       ],
       "ref": "d2356a62-fe82-4cb6-83e2-716d536a51e4",
       "rows": [
        [
         "2241",
         "142.2788"
        ],
        [
         "21781",
         "105.172"
        ],
        [
         "10675",
         "131.3143"
        ],
        [
         "18535",
         "112.8025"
        ],
        [
         "9747",
         "129.595"
        ],
        [
         "17867",
         "145.542"
        ],
        [
         "6226",
         "136.5157"
        ],
        [
         "21174",
         "130.8804"
        ],
        [
         "10115",
         "122.5108"
        ],
        [
         "3889",
         "117.4963"
        ],
        [
         "19683",
         "114.2804"
        ],
        [
         "10805",
         "119.2439"
        ],
        [
         "17214",
         "133.8317"
        ],
        [
         "5753",
         "135.1059"
        ],
        [
         "8564",
         "115.7638"
        ],
        [
         "15677",
         "119.2689"
        ],
        [
         "12774",
         "114.1363"
        ],
        [
         "1711",
         "106.6149"
        ],
        [
         "2001",
         "130.1342"
        ],
        [
         "17373",
         "146.7625"
        ],
        [
         "13464",
         "120.2195"
        ],
        [
         "9940",
         "139.8444"
        ],
        [
         "3226",
         "123.9196"
        ],
        [
         "11252",
         "123.2477"
        ],
        [
         "18644",
         "120.1125"
        ],
        [
         "17849",
         "119.0371"
        ],
        [
         "7037",
         "121.1687"
        ],
        [
         "869",
         "112.4799"
        ],
        [
         "9792",
         "146.6355"
        ],
        [
         "17870",
         "123.4556"
        ],
        [
         "12771",
         "131.859"
        ],
        [
         "14999",
         "132.5996"
        ],
        [
         "22784",
         "141.0278"
        ],
        [
         "7990",
         "137.3509"
        ],
        [
         "18131",
         "136.8493"
        ],
        [
         "3331",
         "117.9912"
        ],
        [
         "7994",
         "128.7894"
        ],
        [
         "19631",
         "131.6605"
        ],
        [
         "24847",
         "120.1586"
        ],
        [
         "12251",
         "132.5597"
        ],
        [
         "14966",
         "133.5217"
        ],
        [
         "12508",
         "118.5414"
        ],
        [
         "1025",
         "148.9791"
        ],
        [
         "6848",
         "121.4664"
        ],
        [
         "4908",
         "124.9"
        ],
        [
         "4272",
         "113.5275"
        ],
        [
         "8397",
         "127.2599"
        ],
        [
         "3142",
         "125.5649"
        ],
        [
         "10548",
         "105.8284"
        ],
        [
         "5701",
         "125.4018"
        ]
       ],
       "shape": {
        "columns": 1,
        "rows": 5000
       }
      },
      "text/plain": [
       "2241     142.2788\n",
       "21781    105.1720\n",
       "10675    131.3143\n",
       "18535    112.8025\n",
       "9747     129.5950\n",
       "           ...   \n",
       "24063    121.1185\n",
       "23453    128.1262\n",
       "6277     132.2144\n",
       "1894     135.8346\n",
       "6507     118.9012\n",
       "Name: Weight(Pounds), Length: 5000, dtype: float64"
      ]
     },
     "execution_count": 21,
     "metadata": {},
     "output_type": "execute_result"
    }
   ],
   "source": [
    "y_test"
   ]
  },
  {
   "cell_type": "code",
   "execution_count": 22,
   "id": "268da66b",
   "metadata": {},
   "outputs": [],
   "source": [
    "y_pred = linear.predict(x_test)"
   ]
  },
  {
   "cell_type": "code",
   "execution_count": 23,
   "id": "a3514884",
   "metadata": {},
   "outputs": [
    {
     "data": {
      "text/plain": [
       "array([138.21236436, 120.11718555, 124.84079635, ..., 129.23606558,\n",
       "       133.87612003, 130.45905776])"
      ]
     },
     "execution_count": 23,
     "metadata": {},
     "output_type": "execute_result"
    }
   ],
   "source": [
    "y_pred"
   ]
  },
  {
   "cell_type": "code",
   "execution_count": 24,
   "id": "aac279ec",
   "metadata": {},
   "outputs": [
    {
     "data": {
      "text/plain": [
       "(5000,)"
      ]
     },
     "execution_count": 24,
     "metadata": {},
     "output_type": "execute_result"
    }
   ],
   "source": [
    "y_pred.shape"
   ]
  },
  {
   "cell_type": "code",
   "execution_count": 25,
   "id": "aeacf4a4",
   "metadata": {},
   "outputs": [
    {
     "data": {
      "application/vnd.microsoft.datawrangler.viewer.v0+json": {
       "columns": [
        {
         "name": "index",
         "rawType": "int64",
         "type": "integer"
        },
        {
         "name": "Weight(Pounds)",
         "rawType": "float64",
         "type": "float"
        }
       ],
       "ref": "1297644f-04ac-4118-be93-3dc8599b3d1d",
       "rows": [
        [
         "2241",
         "142.2788"
        ],
        [
         "21781",
         "105.172"
        ],
        [
         "10675",
         "131.3143"
        ],
        [
         "18535",
         "112.8025"
        ],
        [
         "9747",
         "129.595"
        ],
        [
         "17867",
         "145.542"
        ],
        [
         "6226",
         "136.5157"
        ],
        [
         "21174",
         "130.8804"
        ],
        [
         "10115",
         "122.5108"
        ],
        [
         "3889",
         "117.4963"
        ],
        [
         "19683",
         "114.2804"
        ],
        [
         "10805",
         "119.2439"
        ],
        [
         "17214",
         "133.8317"
        ],
        [
         "5753",
         "135.1059"
        ],
        [
         "8564",
         "115.7638"
        ],
        [
         "15677",
         "119.2689"
        ],
        [
         "12774",
         "114.1363"
        ],
        [
         "1711",
         "106.6149"
        ],
        [
         "2001",
         "130.1342"
        ],
        [
         "17373",
         "146.7625"
        ],
        [
         "13464",
         "120.2195"
        ],
        [
         "9940",
         "139.8444"
        ],
        [
         "3226",
         "123.9196"
        ],
        [
         "11252",
         "123.2477"
        ],
        [
         "18644",
         "120.1125"
        ],
        [
         "17849",
         "119.0371"
        ],
        [
         "7037",
         "121.1687"
        ],
        [
         "869",
         "112.4799"
        ],
        [
         "9792",
         "146.6355"
        ],
        [
         "17870",
         "123.4556"
        ],
        [
         "12771",
         "131.859"
        ],
        [
         "14999",
         "132.5996"
        ],
        [
         "22784",
         "141.0278"
        ],
        [
         "7990",
         "137.3509"
        ],
        [
         "18131",
         "136.8493"
        ],
        [
         "3331",
         "117.9912"
        ],
        [
         "7994",
         "128.7894"
        ],
        [
         "19631",
         "131.6605"
        ],
        [
         "24847",
         "120.1586"
        ],
        [
         "12251",
         "132.5597"
        ],
        [
         "14966",
         "133.5217"
        ],
        [
         "12508",
         "118.5414"
        ],
        [
         "1025",
         "148.9791"
        ],
        [
         "6848",
         "121.4664"
        ],
        [
         "4908",
         "124.9"
        ],
        [
         "4272",
         "113.5275"
        ],
        [
         "8397",
         "127.2599"
        ],
        [
         "3142",
         "125.5649"
        ],
        [
         "10548",
         "105.8284"
        ],
        [
         "5701",
         "125.4018"
        ]
       ],
       "shape": {
        "columns": 1,
        "rows": 5000
       }
      },
      "text/plain": [
       "2241     142.2788\n",
       "21781    105.1720\n",
       "10675    131.3143\n",
       "18535    112.8025\n",
       "9747     129.5950\n",
       "           ...   \n",
       "24063    121.1185\n",
       "23453    128.1262\n",
       "6277     132.2144\n",
       "1894     135.8346\n",
       "6507     118.9012\n",
       "Name: Weight(Pounds), Length: 5000, dtype: float64"
      ]
     },
     "execution_count": 25,
     "metadata": {},
     "output_type": "execute_result"
    }
   ],
   "source": [
    "y_test "
   ]
  },
  {
   "cell_type": "code",
   "execution_count": 26,
   "id": "b1bc871f",
   "metadata": {},
   "outputs": [
    {
     "data": {
      "text/plain": [
       "0.23976499291035136"
      ]
     },
     "execution_count": 26,
     "metadata": {},
     "output_type": "execute_result"
    }
   ],
   "source": [
    "r2_score(y_test,y_pred)"
   ]
  },
  {
   "cell_type": "code",
   "execution_count": 27,
   "id": "3c98c298",
   "metadata": {},
   "outputs": [
    {
     "data": {
      "text/plain": [
       "8.080703226589318"
      ]
     },
     "execution_count": 27,
     "metadata": {},
     "output_type": "execute_result"
    }
   ],
   "source": [
    "mean_absolute_error(y_test,y_pred)"
   ]
  },
  {
   "cell_type": "code",
   "execution_count": null,
   "id": "943c0edd",
   "metadata": {},
   "outputs": [
    {
     "data": {
      "text/plain": [
       "['model.joblib']"
      ]
     },
     "execution_count": 33,
     "metadata": {},
     "output_type": "execute_result"
    }
   ],
   "source": [
    "dump(linear,\"model_reg.joblib\")"
   ]
  },
  {
   "cell_type": "code",
   "execution_count": 30,
   "id": "11ec5162",
   "metadata": {},
   "outputs": [
    {
     "data": {
      "image/png": "[encoded data removed]",
      "text/plain": [
       "<Figure size 1000x600 with 1 Axes>"
      ]
     },
     "metadata": {},
     "output_type": "display_data"
    }
   ],
   "source": [
    "plt.figure(figsize=(10, 6))\n",
    "plt.scatter(x_test, y_test, color='blue', label='Actual', alpha=0.5)\n",
    "plt.plot(x_test, y_pred, color='red', linewidth=2, label='Regression Line')\n",
    "plt.xlabel('Height (Inches)')\n",
    "plt.ylabel('Weight (Pounds)')\n",
    "plt.title('Height vs. Weight with Linear Regression')\n",
    "plt.legend()\n",
    "plt.show()\n",
    "plt.close()"
   ]
  },
  {
   "cell_type": "code",
   "execution_count": 31,
   "id": "81aee455",
   "metadata": {},
   "outputs": [
    {
     "data": {
      "image/png": "[encoded data removed]",
      "text/plain": [
       "<Figure size 1000x600 with 1 Axes>"
      ]
     },
     "metadata": {},
     "output_type": "display_data"
    }
   ],
   "source": [
    "plt.figure(figsize=(10, 6))\n",
    "plt.scatter(y_test, y_pred, color='red', alpha=0.5)\n",
    "plt.plot([y_test.min(), y_test.max()], [y_test.min(), y_test.max()], 'k--', lw=2)\n",
    "plt.xlabel('Actual Weight (Pounds)')\n",
    "plt.ylabel('Predicted Weight (Pounds)')\n",
    "plt.title('Actual vs. Predicted Weights')\n",
    "plt.show()\n",
    "plt.close()"
   ]
  },
  {
   "cell_type": "code",
   "execution_count": null,
   "id": "a4796f03",
   "metadata": {},
   "outputs": [],
   "source": []
  }
 ],
 "metadata": {
  "kernelspec": {
   "display_name": "Python 3",
   "language": "python",
   "name": "python3"
  },
  "language_info": {
   "codemirror_mode": {
    "name": "ipython",
    "version": 3
   },
   "file_extension": ".py",
   "mimetype": "text/x-python",
   "name": "python",
   "nbconvert_exporter": "python",
   "pygments_lexer": "ipython3",
   "version": "3.12.5"
  }
 },
 "nbformat": 4,
 "nbformat_minor": 5
}
