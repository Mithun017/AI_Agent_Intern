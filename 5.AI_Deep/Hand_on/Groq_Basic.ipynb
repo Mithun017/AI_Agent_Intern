{
 "cells": [
  {
   "cell_type": "code",
   "execution_count": 1,
   "id": "5a249182",
   "metadata": {},
   "outputs": [
    {
     "name": "stderr",
     "output_type": "stream",
     "text": [
      "c:\\Users\\MITHUN\\AppData\\Local\\Programs\\Python\\Python312\\Lib\\site-packages\\tqdm\\auto.py:21: TqdmWarning: IProgress not found. Please update jupyter and ipywidgets. See https://ipywidgets.readthedocs.io/en/stable/user_install.html\n",
      "  from .autonotebook import tqdm as notebook_tqdm\n"
     ]
    }
   ],
   "source": [
    "import gradio as gr\n",
    "from langchain_groq import ChatGroq\n",
    "from langchain.prompts import PromptTemplate\n",
    "from langchain.chains import LLMChain\n",
    "import os\n"
   ]
  },
  {
   "cell_type": "code",
   "execution_count": null,
   "id": "a4de0976",
   "metadata": {},
   "outputs": [],
   "source": [
    "\n",
    "#os.environ[\"GROQ_API_KEY\"] = \"\""
   ]
  },
  {
   "cell_type": "code",
   "execution_count": null,
   "id": "e5a8ef73",
   "metadata": {},
   "outputs": [],
   "source": [
    "llm = ChatGroq(\n",
    "    api_key=\"\",  \n",
    "    model=\"llama3-8b-8192\",\n",
    "    temperature=0.7    \n",
    ")"
   ]
  },
  {
   "cell_type": "code",
   "execution_count": 4,
   "id": "3a1034b4",
   "metadata": {},
   "outputs": [],
   "source": [
    "\n",
    "\n",
    "\n",
    "prompt = PromptTemplate(\n",
    "    input_variables=[\"topic\"],\n",
    "    template=\"\"\"\n",
    "You are an intelligent AI assistant. Your task is to understand and solve the user's query optimally.\n",
    "\n",
    "Query: {topic}\n",
    "\n",
    "Please provide:\n",
    "1. A brief explanation if needed.\n",
    "2. The most optimal and clean solution (e.g., Python code if relevant).\n",
    "3. Additional suggestions or improvements if applicable.\n",
    "\n",
    "Respond clearly and concisely.\n",
    "\"\"\"\n",
    ")"
   ]
  },
  {
   "cell_type": "code",
   "execution_count": 5,
   "id": "b78a35da",
   "metadata": {},
   "outputs": [
    {
     "name": "stderr",
     "output_type": "stream",
     "text": [
      "C:\\Users\\MITHUN\\AppData\\Local\\Temp\\ipykernel_42880\\3744065270.py:1: LangChainDeprecationWarning: The class `LLMChain` was deprecated in LangChain 0.1.17 and will be removed in 1.0. Use :meth:`~RunnableSequence, e.g., `prompt | llm`` instead.\n",
      "  chain = LLMChain(llm=llm, prompt=prompt)\n",
      "C:\\Users\\MITHUN\\AppData\\Local\\Temp\\ipykernel_42880\\3744065270.py:2: LangChainDeprecationWarning: The method `Chain.run` was deprecated in langchain 0.1.0 and will be removed in 1.0. Use :meth:`~invoke` instead.\n",
      "  response = chain.run({\"topic\": \"Solve me a python problem for two number sum\"})\n"
     ]
    },
    {
     "name": "stdout",
     "output_type": "stream",
     "text": [
      "I'd be happy to help you with a Python problem for finding the sum of two numbers.\n",
      "\n",
      "**Problem Statement:**\n",
      "Find two numbers in a list that add up to a given target sum.\n",
      "\n",
      "**Optimal Solution:**\n",
      "Here's a Python solution using a two-pointer technique, which has a time complexity of O(n):\n",
      "```python\n",
      "def two_sum(nums, target):\n",
      "    nums.sort()  # sort the list in ascending order\n",
      "    left, right = 0, len(nums) - 1  # initialize two pointers\n",
      "    while left < right:\n",
      "        current_sum = nums[left] + nums[right]\n",
      "        if current_sum == target:\n",
      "            return [nums[left], nums[right]]  # return the two numbers\n",
      "        elif current_sum < target:\n",
      "            left += 1  # move the left pointer to the right\n",
      "        else:\n",
      "            right -= 1  # move the right pointer to the left\n",
      "    return None  # return None if no solution is found\n",
      "```\n",
      "**Explanation:**\n",
      "\n",
      "1. We first sort the input list `nums` in ascending order.\n",
      "2. We initialize two pointers, `left` and `right`, to the start and end of the list, respectively.\n",
      "3. We calculate the sum of the values at the `left` and `right` indices.\n",
      "4. If the sum is equal to the target sum, we return the two numbers.\n",
      "5. If the sum is less than the target sum, we move the `left` pointer to the right to increase the sum.\n",
      "6. If the sum is greater than the target sum, we move the `right` pointer to the left to decrease the sum.\n",
      "7. We repeat steps 3-6 until we find a solution or reach the end of the list.\n",
      "8. If no solution is found, we return `None`.\n",
      "\n",
      "**Additional Suggestions:**\n",
      "\n",
      "* If the input list is large, you can use a more efficient sorting algorithm like Timsort or Heapsort.\n",
      "* You can also use a hash table (e.g., `dict`) to store the values in the list and their indices, which can reduce the time complexity to O(n) for lookups.\n",
      "* For a more general solution, you can use a dynamic programming approach or a recursive function to find the two numbers that add up to the target sum.\n",
      "\n",
      "I hope this helps! Let me know if you have any further questions or need further clarification.\n"
     ]
    }
   ],
   "source": [
    "chain = LLMChain(llm=llm, prompt=prompt)\n",
    "response = chain.run({\"topic\": \"Solve me a python problem for two number sum\"})\n",
    "\n",
    "print(response)"
   ]
  },
  {
   "cell_type": "code",
   "execution_count": 6,
   "id": "fefcd473",
   "metadata": {},
   "outputs": [
    {
     "name": "stdout",
     "output_type": "stream",
     "text": [
      "* Running on local URL:  http://127.0.0.1:7860\n",
      "* To create a public link, set `share=True` in `launch()`.\n"
     ]
    },
    {
     "data": {
      "text/html": [
       "<div><iframe src=\"http://127.0.0.1:7860/\" width=\"100%\" height=\"500\" allow=\"autoplay; camera; microphone; clipboard-read; clipboard-write;\" frameborder=\"0\" allowfullscreen></iframe></div>"
      ],
      "text/plain": [
       "<IPython.core.display.HTML object>"
      ]
     },
     "metadata": {},
     "output_type": "display_data"
    },
    {
     "data": {
      "text/plain": []
     },
     "execution_count": 6,
     "metadata": {},
     "output_type": "execute_result"
    }
   ],
   "source": [
    "def solve_problem(topic):\n",
    "    return chain.run({\"topic\": topic})\n",
    "\n",
    "\n",
    "iface = gr.Interface(\n",
    "    fn=solve_problem,\n",
    "    inputs=gr.Textbox(lines=2, placeholder=\"Enter your Python problem topic here...\"),\n",
    "    outputs=\"text\",\n",
    "    title=\"Python Problem Solver with Groq\",\n",
    "    description=\"Ask the LLM to generate Python code for your problem.\"\n",
    ")\n",
    "\n",
    "iface.launch()"
   ]
  },
  {
   "cell_type": "code",
   "execution_count": 7,
   "id": "d769ec4e",
   "metadata": {},
   "outputs": [],
   "source": [
    "\n",
    "#problem solving assistant\n",
    "\n",
    "prompt = PromptTemplate(\n",
    "    input_variables=[\"topic\"],\n",
    "    template=\"\"\"\n",
    "You are a highly skilled problem solver and coding assistant.\n",
    "\n",
    "Task \n",
    "1.solve the problem by analysing the test case and by analysing the logic of the problem\n",
    "2.The solution must be very optimal and best in time and space complexity \n",
    "3.I need the proper solution that run all the test cases\n",
    "\n",
    "problem: {topic}\n",
    "\n",
    "Solution\n",
    "1.Make me the code in python \n",
    "2.I need to run this solution very optimally \n",
    "3.make this sutable for all the problems\n",
    "\n",
    "\"\"\"\n",
    ")"
   ]
  },
  {
   "cell_type": "code",
   "execution_count": 8,
   "id": "a8091081",
   "metadata": {},
   "outputs": [
    {
     "name": "stdout",
     "output_type": "stream",
     "text": [
      "* Running on local URL:  http://127.0.0.1:7861\n",
      "* To create a public link, set `share=True` in `launch()`.\n"
     ]
    },
    {
     "data": {
      "text/html": [
       "<div><iframe src=\"http://127.0.0.1:7861/\" width=\"100%\" height=\"500\" allow=\"autoplay; camera; microphone; clipboard-read; clipboard-write;\" frameborder=\"0\" allowfullscreen></iframe></div>"
      ],
      "text/plain": [
       "<IPython.core.display.HTML object>"
      ]
     },
     "metadata": {},
     "output_type": "display_data"
    },
    {
     "data": {
      "text/plain": []
     },
     "execution_count": 8,
     "metadata": {},
     "output_type": "execute_result"
    }
   ],
   "source": [
    "def solve_problem(topic):\n",
    "    return chain.run({\"topic\": topic})\n",
    "\n",
    "\n",
    "iface = gr.Interface(\n",
    "    fn=solve_problem,\n",
    "    inputs=gr.Textbox(lines=2, placeholder=\"Enter your Python problem topic here...\"),\n",
    "    outputs=\"text\",\n",
    "    title=\"Python Problem Solver with Groq\",\n",
    "    description=\"Ask the LLM to generate Python code for your problem.\"\n",
    ")\n",
    "\n",
    "iface.launch()"
   ]
  },
  {
   "cell_type": "code",
   "execution_count": null,
   "id": "3b8d7d7d",
   "metadata": {},
   "outputs": [],
   "source": []
  }
 ],
 "metadata": {
  "kernelspec": {
   "display_name": "Python 3",
   "language": "python",
   "name": "python3"
  },
  "language_info": {
   "codemirror_mode": {
    "name": "ipython",
    "version": 3
   },
   "file_extension": ".py",
   "mimetype": "text/x-python",
   "name": "python",
   "nbconvert_exporter": "python",
   "pygments_lexer": "ipython3",
   "version": "3.12.5"
  }
 },
 "nbformat": 4,
 "nbformat_minor": 5
}
