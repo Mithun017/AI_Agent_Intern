{
 "cells": [
  {
   "cell_type": "code",
   "execution_count": null,
   "id": "32360967",
   "metadata": {},
   "outputs": [
    {
     "name": "stdout",
     "output_type": "stream",
     "text": [
      "* Running on local URL:  http://127.0.0.1:7863\n",
      "* To create a public link, set `share=True` in `launch()`.\n"
     ]
    },
    {
     "data": {
      "text/html": [
       "<div><iframe src=\"http://127.0.0.1:7863/\" width=\"100%\" height=\"500\" allow=\"autoplay; camera; microphone; clipboard-read; clipboard-write;\" frameborder=\"0\" allowfullscreen></iframe></div>"
      ],
      "text/plain": [
       "<IPython.core.display.HTML object>"
      ]
     },
     "metadata": {},
     "output_type": "display_data"
    },
    {
     "data": {
      "text/plain": []
     },
     "execution_count": 9,
     "metadata": {},
     "output_type": "execute_result"
    }
   ],
   "source": [
    "\n",
    "import gradio as gr\n",
    "def name(name):\n",
    "    return f\"i am {name}\"\n",
    "interface = gr.Interface(fn=name, \n",
    "                         inputs='text',\n",
    "                         outputs='text')\n",
    "\n",
    "interface.launch()"
   ]
  },
  {
   "cell_type": "code",
   "execution_count": 29,
   "id": "681cd95f",
   "metadata": {},
   "outputs": [
    {
     "name": "stdout",
     "output_type": "stream",
     "text": [
      "* Running on local URL:  http://127.0.0.1:7875\n",
      "* To create a public link, set `share=True` in `launch()`.\n"
     ]
    },
    {
     "data": {
      "text/html": [
       "<div><iframe src=\"http://127.0.0.1:7875/\" width=\"100%\" height=\"500\" allow=\"autoplay; camera; microphone; clipboard-read; clipboard-write;\" frameborder=\"0\" allowfullscreen></iframe></div>"
      ],
      "text/plain": [
       "<IPython.core.display.HTML object>"
      ]
     },
     "metadata": {},
     "output_type": "display_data"
    },
    {
     "data": {
      "text/plain": []
     },
     "execution_count": 29,
     "metadata": {},
     "output_type": "execute_result"
    }
   ],
   "source": [
    "import gradio as gr\n",
    "def add_numbers(a, b):\n",
    "    return a + b\n",
    "interface = gr.Interface(fn=add_numbers, \n",
    "                         inputs=[\"number\",\"number\"],\n",
    "                         outputs=\"number\")\n",
    "\n",
    "interface.launch()"
   ]
  },
  {
   "cell_type": "code",
   "execution_count": 30,
   "id": "feecf2bf",
   "metadata": {},
   "outputs": [
    {
     "name": "stdout",
     "output_type": "stream",
     "text": [
      "* Running on local URL:  http://127.0.0.1:7876\n",
      "* To create a public link, set `share=True` in `launch()`.\n"
     ]
    },
    {
     "data": {
      "text/html": [
       "<div><iframe src=\"http://127.0.0.1:7876/\" width=\"100%\" height=\"500\" allow=\"autoplay; camera; microphone; clipboard-read; clipboard-write;\" frameborder=\"0\" allowfullscreen></iframe></div>"
      ],
      "text/plain": [
       "<IPython.core.display.HTML object>"
      ]
     },
     "metadata": {},
     "output_type": "display_data"
    },
    {
     "data": {
      "text/plain": []
     },
     "execution_count": 30,
     "metadata": {},
     "output_type": "execute_result"
    }
   ],
   "source": [
    "import gradio as gr\n",
    "def add_numbers(a, b):\n",
    "    return a + b\n",
    "interface = gr.Interface(fn=add_numbers, \n",
    "                         inputs=[gr.Number(label=\"Number 1\"), gr.Number(label=\"Number 2\")],\n",
    "                         outputs=gr.Number(label=\"Sum\"))\n",
    "\n",
    "interface.launch()"
   ]
  },
  {
   "cell_type": "code",
   "execution_count": 31,
   "id": "e41db6c1",
   "metadata": {},
   "outputs": [
    {
     "name": "stdout",
     "output_type": "stream",
     "text": [
      "Loaded as API: http://127.0.0.1:7868/ ✔\n",
      "6\n"
     ]
    }
   ],
   "source": [
    "from gradio_client import Client\n",
    "\n",
    "client = Client(\"http://127.0.0.1:7868/\")\n",
    "result = client.predict(\n",
    "\t\ta=3,\n",
    "\t\tb=3,\n",
    "\t\tapi_name=\"/predict\"\n",
    ")\n",
    "print(result)"
   ]
  },
  {
   "cell_type": "code",
   "execution_count": null,
   "id": "9e0e237a",
   "metadata": {},
   "outputs": [],
   "source": []
  },
  {
   "cell_type": "code",
   "execution_count": 32,
   "id": "8d4b3c0a",
   "metadata": {},
   "outputs": [
    {
     "name": "stdout",
     "output_type": "stream",
     "text": [
      "* Running on local URL:  http://127.0.0.1:7877\n",
      "* To create a public link, set `share=True` in `launch()`.\n"
     ]
    },
    {
     "data": {
      "text/html": [
       "<div><iframe src=\"http://127.0.0.1:7877/\" width=\"100%\" height=\"500\" allow=\"autoplay; camera; microphone; clipboard-read; clipboard-write;\" frameborder=\"0\" allowfullscreen></iframe></div>"
      ],
      "text/plain": [
       "<IPython.core.display.HTML object>"
      ]
     },
     "metadata": {},
     "output_type": "display_data"
    },
    {
     "data": {
      "text/plain": []
     },
     "execution_count": 32,
     "metadata": {},
     "output_type": "execute_result"
    }
   ],
   "source": [
    "import gradio as gr\n",
    "\n",
    "def radio_choice(choice):\n",
    "    return f\"You selected: {choice}\"\n",
    "\n",
    "gr.Interface(\n",
    "    fn=radio_choice,\n",
    "    inputs=gr.Radio([\"Red\", \"Green\", \"Blue\"], label=\"Pick a Color\"),\n",
    "    outputs=gr.Textbox(label=\"Result\")\n",
    ").launch()\n"
   ]
  },
  {
   "cell_type": "code",
   "execution_count": 24,
   "id": "f4a1e180",
   "metadata": {},
   "outputs": [
    {
     "name": "stdout",
     "output_type": "stream",
     "text": [
      "* Running on local URL:  http://127.0.0.1:7870\n",
      "* To create a public link, set `share=True` in `launch()`.\n"
     ]
    },
    {
     "data": {
      "text/html": [
       "<div><iframe src=\"http://127.0.0.1:7870/\" width=\"100%\" height=\"500\" allow=\"autoplay; camera; microphone; clipboard-read; clipboard-write;\" frameborder=\"0\" allowfullscreen></iframe></div>"
      ],
      "text/plain": [
       "<IPython.core.display.HTML object>"
      ]
     },
     "metadata": {},
     "output_type": "display_data"
    },
    {
     "data": {
      "text/plain": []
     },
     "execution_count": 24,
     "metadata": {},
     "output_type": "execute_result"
    }
   ],
   "source": [
    "import gradio as gr\n",
    "\n",
    "def dropdown_choice(fruit):\n",
    "    return f\"Your favorite fruit is: {fruit}\"\n",
    "\n",
    "gr.Interface(\n",
    "    fn=dropdown_choice,\n",
    "    inputs=gr.Dropdown([\"Apple\", \"Banana\", \"Mango\", \"Grapes\"], label=\"Select a Fruit\"),\n",
    "    outputs=gr.Textbox(label=\"Result\")\n",
    ").launch()\n"
   ]
  },
  {
   "cell_type": "code",
   "execution_count": 25,
   "id": "25bdd841",
   "metadata": {},
   "outputs": [
    {
     "name": "stdout",
     "output_type": "stream",
     "text": [
      "* Running on local URL:  http://127.0.0.1:7871\n",
      "* To create a public link, set `share=True` in `launch()`.\n"
     ]
    },
    {
     "data": {
      "text/html": [
       "<div><iframe src=\"http://127.0.0.1:7871/\" width=\"100%\" height=\"500\" allow=\"autoplay; camera; microphone; clipboard-read; clipboard-write;\" frameborder=\"0\" allowfullscreen></iframe></div>"
      ],
      "text/plain": [
       "<IPython.core.display.HTML object>"
      ]
     },
     "metadata": {},
     "output_type": "display_data"
    },
    {
     "data": {
      "text/plain": []
     },
     "execution_count": 25,
     "metadata": {},
     "output_type": "execute_result"
    }
   ],
   "source": [
    "import gradio as gr\n",
    "\n",
    "def slider_value(value):\n",
    "    return f\"You selected the number: {value}\"\n",
    "\n",
    "gr.Interface(\n",
    "    fn=slider_value,\n",
    "    inputs=gr.Slider(minimum=0, maximum=10, step=1, label=\"Pick a Number\"),\n",
    "    outputs=gr.Textbox(label=\"Result\")\n",
    ").launch()\n"
   ]
  },
  {
   "cell_type": "code",
   "execution_count": 28,
   "id": "88b65fe4",
   "metadata": {},
   "outputs": [
    {
     "name": "stdout",
     "output_type": "stream",
     "text": [
      "* Running on local URL:  http://127.0.0.1:7874\n",
      "* To create a public link, set `share=True` in `launch()`.\n"
     ]
    },
    {
     "data": {
      "text/html": [
       "<div><iframe src=\"http://127.0.0.1:7874/\" width=\"100%\" height=\"500\" allow=\"autoplay; camera; microphone; clipboard-read; clipboard-write;\" frameborder=\"0\" allowfullscreen></iframe></div>"
      ],
      "text/plain": [
       "<IPython.core.display.HTML object>"
      ]
     },
     "metadata": {},
     "output_type": "display_data"
    },
    {
     "data": {
      "text/plain": []
     },
     "execution_count": 28,
     "metadata": {},
     "output_type": "execute_result"
    }
   ],
   "source": [
    "import gradio as gr\n",
    "\n",
    "def classify_image(image):\n",
    "    \n",
    "    return \"i have a image\" if image is not None else \"Unknown\"\n",
    "\n",
    "interface = gr.Interface(fn=classify_image,\n",
    "                         inputs=gr.Image(type=\"pil\"),\n",
    "                         outputs=gr.Label(num_top_classes=1))\n",
    "\n",
    "interface.launch()\n"
   ]
  },
  {
   "cell_type": "code",
   "execution_count": 27,
   "id": "52aea998",
   "metadata": {},
   "outputs": [
    {
     "name": "stdout",
     "output_type": "stream",
     "text": [
      "* Running on local URL:  http://127.0.0.1:7873\n",
      "* To create a public link, set `share=True` in `launch()`.\n"
     ]
    },
    {
     "data": {
      "text/html": [
       "<div><iframe src=\"http://127.0.0.1:7873/\" width=\"100%\" height=\"500\" allow=\"autoplay; camera; microphone; clipboard-read; clipboard-write;\" frameborder=\"0\" allowfullscreen></iframe></div>"
      ],
      "text/plain": [
       "<IPython.core.display.HTML object>"
      ]
     },
     "metadata": {},
     "output_type": "display_data"
    },
    {
     "data": {
      "text/plain": []
     },
     "execution_count": 27,
     "metadata": {},
     "output_type": "execute_result"
    }
   ],
   "source": [
    "import gradio as gr\n",
    "\n",
    "def summarize_input(color, fruit, rating):\n",
    "    return f\"\"\"🎨 Color: {color}\n",
    "🍓 Fruit: {fruit}\n",
    "⭐ Rating: {rating}/10\"\"\"\n",
    "\n",
    "with gr.Blocks(theme=gr.themes.Base()) as demo:\n",
    "    gr.Markdown(\"## 🎨 My Stylish Gradio App\")\n",
    "    gr.Markdown(\"Choose your preferences below:\")\n",
    "\n",
    "    with gr.Row():\n",
    "        radio = gr.Radio([\"Red\", \"Green\", \"Blue\"], label=\"Pick a Color\", info=\"Radio Button\")\n",
    "\n",
    "        dropdown = gr.Dropdown([\"Apple\", \"Banana\", \"Cherry\"], label=\"Select a Fruit\", info=\"Dropdown Menu\")\n",
    "\n",
    "        slider = gr.Slider(0, 10, step=1, label=\"Rate your Day\", info=\"Slider (0 to 10)\")\n",
    "\n",
    "    with gr.Row():\n",
    "        submit_btn = gr.Button(\"✨ Show Summary\")\n",
    "\n",
    "    output = gr.Textbox(label=\"Your Selections\")\n",
    "\n",
    "    submit_btn.click(fn=summarize_input, inputs=[radio, dropdown, slider], outputs=output)\n",
    "\n",
    "demo.launch()\n"
   ]
  },
  {
   "cell_type": "code",
   "execution_count": null,
   "id": "813a0dc3",
   "metadata": {},
   "outputs": [
    {
     "name": "stdout",
     "output_type": "stream",
     "text": [
      "* Running on local URL:  http://127.0.0.1:7878\n",
      "* To create a public link, set `share=True` in `launch()`.\n"
     ]
    },
    {
     "data": {
      "text/html": [
       "<div><iframe src=\"http://127.0.0.1:7878/\" width=\"100%\" height=\"500\" allow=\"autoplay; camera; microphone; clipboard-read; clipboard-write;\" frameborder=\"0\" allowfullscreen></iframe></div>"
      ],
      "text/plain": [
       "<IPython.core.display.HTML object>"
      ]
     },
     "metadata": {},
     "output_type": "display_data"
    },
    {
     "data": {
      "text/plain": []
     },
     "execution_count": 33,
     "metadata": {},
     "output_type": "execute_result"
    }
   ],
   "source": [
    "import gradio as gr\n",
    "\n",
    "def handle_file(file):\n",
    "    return f\"You uploaded: {file.name}\"\n",
    "\n",
    "gr.Interface(\n",
    "    fn=handle_file,\n",
    "    inputs=gr.File(label=\"Upload a file\"),\n",
    "    outputs=\"text\"\n",
    ").launch()\n",
    "\n"
   ]
  },
  {
   "cell_type": "code",
   "execution_count": 37,
   "id": "5364284b",
   "metadata": {},
   "outputs": [
    {
     "name": "stdout",
     "output_type": "stream",
     "text": [
      "* Running on local URL:  http://127.0.0.1:7882\n",
      "* To create a public link, set `share=True` in `launch()`.\n"
     ]
    },
    {
     "data": {
      "text/html": [
       "<div><iframe src=\"http://127.0.0.1:7882/\" width=\"100%\" height=\"500\" allow=\"autoplay; camera; microphone; clipboard-read; clipboard-write;\" frameborder=\"0\" allowfullscreen></iframe></div>"
      ],
      "text/plain": [
       "<IPython.core.display.HTML object>"
      ]
     },
     "metadata": {},
     "output_type": "display_data"
    },
    {
     "data": {
      "text/plain": []
     },
     "execution_count": 37,
     "metadata": {},
     "output_type": "execute_result"
    }
   ],
   "source": [
    "import gradio as gr\n",
    "import shutil\n",
    "import os\n",
    "\n",
    "def handle_file(file):\n",
    "    if file is None:\n",
    "        return \"No file uploaded.\"\n",
    "\n",
    "    filename = os.path.basename(file.name)\n",
    "    save_path = os.path.join(os.getcwd(), filename)\n",
    "\n",
    "    if file.name != save_path:\n",
    "        shutil.copy(file.name, save_path)\n",
    "        return f\"File saved at: {save_path}\"\n",
    "    else:\n",
    "        return \"File is already in the destination folder.\"\n",
    "\n",
    "gr.Interface(\n",
    "    fn=handle_file,\n",
    "    inputs=gr.File(label=\"Upload a file\"),\n",
    "    outputs=\"text\"\n",
    ").launch()\n"
   ]
  },
  {
   "cell_type": "code",
   "execution_count": null,
   "id": "eefaca87",
   "metadata": {},
   "outputs": [],
   "source": []
  }
 ],
 "metadata": {
  "kernelspec": {
   "display_name": "Python 3",
   "language": "python",
   "name": "python3"
  },
  "language_info": {
   "codemirror_mode": {
    "name": "ipython",
    "version": 3
   },
   "file_extension": ".py",
   "mimetype": "text/x-python",
   "name": "python",
   "nbconvert_exporter": "python",
   "pygments_lexer": "ipython3",
   "version": "3.12.5"
  }
 },
 "nbformat": 4,
 "nbformat_minor": 5
}
