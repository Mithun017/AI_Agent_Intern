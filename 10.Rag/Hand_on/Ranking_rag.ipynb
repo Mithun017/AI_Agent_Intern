{
 "cells": [
  {
   "cell_type": "code",
   "execution_count": 3,
   "id": "05bde2c6",
   "metadata": {},
   "outputs": [
    {
     "data": {
      "application/vnd.jupyter.widget-view+json": {
       "model_id": "d0b509ffa8744cb2bcd8b1d3d7e6f6d0",
       "version_major": 2,
       "version_minor": 0
      },
      "text/plain": [
       "Batches:   0%|          | 0/1 [00:00<?, ?it/s]"
      ]
     },
     "metadata": {},
     "output_type": "display_data"
    },
    {
     "name": "stdout",
     "output_type": "stream",
     "text": [
      "\n",
      "🔍 Query: Where is the Eiffel Tower?\n",
      "\n",
      "Score: 9.8405 | Doc ID: 0 | Text: The Eiffel Tower is in Paris.\n",
      "Score: -6.7940 | Doc ID: 3 | Text: Paris is the capital city of France.\n",
      "Score: -10.6811 | Doc ID: 1 | Text: The Great Wall of China is visible from space.\n",
      "\n",
      "🔍 Query: Tell me about programming languages.\n",
      "\n",
      "Score: 0.6079 | Doc ID: 4 | Text: Python is a popular programming language.\n",
      "Score: -10.1453 | Doc ID: 2 | Text: Machine learning is a subfield of artificial intelligence.\n",
      "Score: -11.1572 | Doc ID: 5 | Text: The Pyramids of Giza are in Egypt.\n"
     ]
    }
   ],
   "source": [
    "from sentence_transformers import SentenceTransformer, CrossEncoder, util\n",
    "import faiss\n",
    "import numpy as np\n",
    "\n",
    "corpus = [\n",
    "    \"The Eiffel Tower is in Paris.\",\n",
    "    \"The Great Wall of China is visible from space.\",\n",
    "    \"Machine learning is a subfield of artificial intelligence.\",\n",
    "    \"Paris is the capital city of France.\",\n",
    "    \"Python is a popular programming language.\",\n",
    "    \"The Pyramids of Giza are in Egypt.\",\n",
    "]\n",
    "corpus_ids = list(range(len(corpus)))\n",
    "\n",
    "bi_encoder = SentenceTransformer('all-MiniLM-L6-v2')\n",
    "corpus_embeddings = bi_encoder.encode(corpus, convert_to_tensor=False, show_progress_bar=True)\n",
    "corpus_embeddings = np.array(corpus_embeddings).astype(\"float32\")\n",
    "\n",
    "dimension = corpus_embeddings.shape[1]\n",
    "faiss_index = faiss.IndexFlatL2(dimension)\n",
    "faiss_index.add(corpus_embeddings)\n",
    "\n",
    "cross_encoder = CrossEncoder('cross-encoder/ms-marco-MiniLM-L-6-v2')\n",
    "\n",
    "def search_with_rerank(query, top_k=3):\n",
    "    query_embedding = bi_encoder.encode([query])[0].astype(\"float32\")\n",
    "    D, I = faiss_index.search(np.array([query_embedding]), top_k)\n",
    "    initial_results = [(corpus[idx], idx) for idx in I[0]]\n",
    "    cross_inp = [[query, corpus[idx]] for idx in I[0]]\n",
    "    cross_scores = cross_encoder.predict(cross_inp)\n",
    "    reranked_results = sorted(zip(cross_scores, initial_results), key=lambda x: x[0], reverse=True)\n",
    "    print(f\"\\n🔍 Query: {query}\\n\")\n",
    "    for score, (text, idx) in reranked_results:\n",
    "        print(f\"Score: {score:.4f} | Doc ID: {idx} | Text: {text}\")\n",
    "\n",
    "search_with_rerank(\"Where is the Eiffel Tower?\")\n",
    "search_with_rerank(\"Tell me about programming languages.\")\n"
   ]
  },
  {
   "cell_type": "code",
   "execution_count": 5,
   "id": "e3bc6184",
   "metadata": {},
   "outputs": [
    {
     "name": "stdout",
     "output_type": "stream",
     "text": [
      "\n",
      "🔍 Query: How to cook pasta?\n",
      "\n",
      "Score: 3.4070 | Text: Add pasta to boiling water and stir occasionally.\n",
      "Score: 1.3242 | Text: Drain the pasta using a colander.\n",
      "Score: 0.8529 | Text: Serve the pasta hot with grated cheese on top.\n",
      "\n",
      "🔍 Query: What should I add after boiling pasta?\n",
      "\n",
      "Score: 2.8984 | Text: Add pasta to boiling water and stir occasionally.\n",
      "Score: -5.8037 | Text: Serve the pasta hot with grated cheese on top.\n",
      "Score: -6.2938 | Text: Drain the pasta using a colander.\n"
     ]
    }
   ],
   "source": [
    "from langchain.embeddings import HuggingFaceEmbeddings\n",
    "from langchain.vectorstores import FAISS\n",
    "from langchain.schema import Document\n",
    "from langchain.text_splitter import CharacterTextSplitter\n",
    "from sentence_transformers import CrossEncoder\n",
    "\n",
    "docs = [\n",
    "    Document(page_content=\"Boil water in a large pot with a pinch of salt.\"),\n",
    "    Document(page_content=\"Add pasta to boiling water and stir occasionally.\"),\n",
    "    Document(page_content=\"Cook pasta for 8-10 minutes until al dente.\"),\n",
    "    Document(page_content=\"Drain the pasta using a colander.\"),\n",
    "    Document(page_content=\"Add your favorite sauce and mix well.\"),\n",
    "    Document(page_content=\"Serve the pasta hot with grated cheese on top.\"),\n",
    "    Document(page_content=\"Optionally, garnish with basil or parsley for flavor.\"),\n",
    "]\n",
    "\n",
    "text_splitter = CharacterTextSplitter(chunk_size=300, chunk_overlap=0)\n",
    "split_docs = text_splitter.split_documents(docs)\n",
    "\n",
    "embed_model = HuggingFaceEmbeddings(model_name=\"all-MiniLM-L6-v2\")\n",
    "vectorstore = FAISS.from_documents(split_docs, embed_model)\n",
    "\n",
    "cross_encoder = CrossEncoder(\"cross-encoder/ms-marco-MiniLM-L-6-v2\")\n",
    "\n",
    "def search_with_rerank(query, k=3):\n",
    "    retrieved_docs = vectorstore.similarity_search(query, k=k)\n",
    "    pairs = [[query, doc.page_content] for doc in retrieved_docs]\n",
    "    scores = cross_encoder.predict(pairs)\n",
    "    reranked = sorted(zip(scores, retrieved_docs), key=lambda x: x[0], reverse=True)\n",
    "    print(f\"\\n🔍 Query: {query}\\n\")\n",
    "    for score, doc in reranked:\n",
    "        print(f\"Score: {score:.4f} | Text: {doc.page_content}\")\n",
    "\n",
    "search_with_rerank(\"How to cook pasta?\")\n",
    "search_with_rerank(\"What should I add after boiling pasta?\")\n"
   ]
  },
  {
   "cell_type": "code",
   "execution_count": null,
   "id": "c170446a",
   "metadata": {},
   "outputs": [],
   "source": []
  }
 ],
 "metadata": {
  "kernelspec": {
   "display_name": "Python 3",
   "language": "python",
   "name": "python3"
  },
  "language_info": {
   "codemirror_mode": {
    "name": "ipython",
    "version": 3
   },
   "file_extension": ".py",
   "mimetype": "text/x-python",
   "name": "python",
   "nbconvert_exporter": "python",
   "pygments_lexer": "ipython3",
   "version": "3.12.5"
  }
 },
 "nbformat": 4,
 "nbformat_minor": 5
}
