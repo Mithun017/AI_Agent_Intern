{
 "cells": [
  {
   "cell_type": "code",
   "execution_count": 1,
   "id": "770eb085",
   "metadata": {},
   "outputs": [
    {
     "name": "stderr",
     "output_type": "stream",
     "text": [
      "c:\\Users\\MITHUN\\AppData\\Local\\Programs\\Python\\Python312\\Lib\\site-packages\\tqdm\\auto.py:21: TqdmWarning: IProgress not found. Please update jupyter and ipywidgets. See https://ipywidgets.readthedocs.io/en/stable/user_install.html\n",
      "  from .autonotebook import tqdm as notebook_tqdm\n"
     ]
    },
    {
     "name": "stdout",
     "output_type": "stream",
     "text": [
      "* Running on local URL:  http://127.0.0.1:7860\n",
      "* To create a public link, set `share=True` in `launch()`.\n"
     ]
    },
    {
     "data": {
      "text/html": [
       "<div><iframe src=\"http://127.0.0.1:7860/\" width=\"100%\" height=\"500\" allow=\"autoplay; camera; microphone; clipboard-read; clipboard-write;\" frameborder=\"0\" allowfullscreen></iframe></div>"
      ],
      "text/plain": [
       "<IPython.core.display.HTML object>"
      ]
     },
     "metadata": {},
     "output_type": "display_data"
    },
    {
     "data": {
      "text/plain": []
     },
     "execution_count": 1,
     "metadata": {},
     "output_type": "execute_result"
    }
   ],
   "source": [
    "import os\n",
    "import gradio as gr\n",
    "from langchain.prompts import PromptTemplate\n",
    "from langchain.schema import StrOutputParser\n",
    "from langchain_groq import ChatGroq\n",
    "from dotenv import load_dotenv\n",
    "\n",
    "load_dotenv()\n",
    "\n",
    "llm = ChatGroq(\n",
    "    temperature=0.3,\n",
    "    model_name=\"llama3-8b-8192\"\n",
    ")\n",
    "\n",
    "prompt = PromptTemplate(\n",
    "    input_variables=[\"question\"],\n",
    "    template=\"\"\"\n",
    "You are a helpful and intelligent assistant. When given a question or problem, think through the solution in a clear, logical, and step-by-step manner. Show your reasoning clearly to help the user understand how the answer is derived.\n",
    "\n",
    "Question: {question}\n",
    "\n",
    "Let's think step-by-step:\n",
    "\"\"\"\n",
    ")\n",
    "\n",
    "chain = prompt | llm | StrOutputParser()\n",
    "\n",
    "def solve_step_by_step(question):\n",
    "    return chain.invoke({\"question\": question}).strip()\n",
    "\n",
    "with gr.Blocks(css=\"\"\"\n",
    "body {\n",
    "    background-color: #f6f8fa;\n",
    "    font-family: 'Segoe UI', sans-serif;\n",
    "    color: #1c1e21;\n",
    "}\n",
    "#question-input textarea {\n",
    "    font-size: 15px;\n",
    "    padding: 14px;\n",
    "    border-radius: 10px;\n",
    "    border: 1px solid #ccc;\n",
    "    background-color: #fff;\n",
    "    color: #000;\n",
    "}\n",
    "#submit-btn {\n",
    "    background-color: #6c63ff;\n",
    "    color: white;\n",
    "    padding: 12px 20px;\n",
    "    border: none;\n",
    "    font-size: 16px;\n",
    "    border-radius: 8px;\n",
    "    margin-top: 12px;\n",
    "    transition: background-color 0.3s ease;\n",
    "}\n",
    "#submit-btn:hover {\n",
    "    background-color: #5548d9;\n",
    "}\n",
    "#answer-output textarea {\n",
    "    font-size: 15px;\n",
    "    background-color: #fdfdfd;\n",
    "    padding: 14px;\n",
    "    border-radius: 10px;\n",
    "    color: #000;\n",
    "    border: 1px solid #ccc;\n",
    "}\n",
    "\"\"\") as demo:\n",
    "\n",
    "    gr.Markdown(\"\"\"\n",
    "    <div style='text-align:center;'>\n",
    "        <h1 style='color:#6c63ff;'>🧠 Smart Assistant with Chain-of-Thoughts</h1>\n",
    "        <p>Enter any question or problem. This assistant will walk you through the solution step-by-step.</p>\n",
    "    </div>\n",
    "    \"\"\")\n",
    "\n",
    "    with gr.Row():\n",
    "        with gr.Column():\n",
    "            question_input = gr.Textbox(\n",
    "                label=\"❓ Your Question or Problem\",\n",
    "                lines=4,\n",
    "                elem_id=\"question-input\",\n",
    "                placeholder=\"E.g. How do I calculate the area of a circle?\",\n",
    "                show_copy_button=True\n",
    "            )\n",
    "            run_button = gr.Button(\"🤖 Solve Step-by-Step\", elem_id=\"submit-btn\")\n",
    "\n",
    "        with gr.Column():\n",
    "            answer_output = gr.Textbox(\n",
    "                label=\"📝 Step-by-Step Solution\",\n",
    "                lines=10,\n",
    "                elem_id=\"answer-output\",\n",
    "                interactive=True,\n",
    "                show_copy_button=True\n",
    "            )\n",
    "\n",
    "    run_button.click(fn=solve_step_by_step, inputs=question_input, outputs=answer_output)\n",
    "\n",
    "demo.launch()\n"
   ]
  },
  {
   "cell_type": "code",
   "execution_count": null,
   "id": "3a11212c",
   "metadata": {},
   "outputs": [],
   "source": []
  }
 ],
 "metadata": {
  "kernelspec": {
   "display_name": "Python 3",
   "language": "python",
   "name": "python3"
  },
  "language_info": {
   "codemirror_mode": {
    "name": "ipython",
    "version": 3
   },
   "file_extension": ".py",
   "mimetype": "text/x-python",
   "name": "python",
   "nbconvert_exporter": "python",
   "pygments_lexer": "ipython3",
   "version": "3.12.5"
  }
 },
 "nbformat": 4,
 "nbformat_minor": 5
}
