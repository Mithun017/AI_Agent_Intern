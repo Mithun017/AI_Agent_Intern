{
 "cells": [
  {
   "cell_type": "code",
   "execution_count": 3,
   "id": "3ead20b1",
   "metadata": {},
   "outputs": [],
   "source": [
    "from langchain_groq import ChatGroq\n",
    "from langchain.output_parsers import StructuredOutputParser, ResponseSchema\n",
    "from langchain.prompts import PromptTemplate\n",
    "import os\n",
    "from dotenv import load_dotenv\n"
   ]
  },
  {
   "cell_type": "code",
   "execution_count": 5,
   "id": "37e4ba62",
   "metadata": {},
   "outputs": [],
   "source": [
    "load_dotenv()\n",
    "\n",
    "os.environ[\"GROQ_API_KEY\"] = \"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\"\n",
    "\n",
    "llm = ChatGroq(\n",
    "    model=\"llama-3.3-70b-versatile\",\n",
    "    temperature=0.5\n",
    ")"
   ]
  },
  {
   "cell_type": "code",
   "execution_count": 6,
   "id": "c46ec8bb",
   "metadata": {},
   "outputs": [],
   "source": [
    "\n",
    "\n",
    "response_schemas = [\n",
    "    ResponseSchema(name=\"sentiment\", description=\"Sentiment: positive, negative, or neutral\", type=\"string\"),\n",
    "    ResponseSchema(name=\"confidence\", description=\"Confidence score between 0.0 and 1.0\", type=\"float\")\n",
    "]\n",
    "\n",
    "output_parser = StructuredOutputParser.from_response_schemas(response_schemas)\n",
    "\n",
    "format_instructions = output_parser.get_format_instructions()"
   ]
  },
  {
   "cell_type": "code",
   "execution_count": 7,
   "id": "fe9340c5",
   "metadata": {},
   "outputs": [],
   "source": [
    "prompt = PromptTemplate(\n",
    "    template=\"\"\"You are a sentiment analysis assistant. Classify the sentiment of the input text as 'positive', 'negative', or 'neutral' and provide a confidence score between 0.0 and 1.0. If no text is provided, return: {{\"sentiment\": \"error\", \"confidence\": 0.0}} with the message: 'No text provided.' Format the response as JSON according to these instructions: {format_instructions}\n",
    "\n",
    "Examples:\n",
    "- Text: 'This movie is fantastic!' → {{\"sentiment\": \"positive\", \"confidence\": 0.9}}\n",
    "- Text: 'I hated the service.' → {{\"sentiment\": \"negative\", \"confidence\": 0.85}}\n",
    "- Text: 'The weather is okay.' → {{\"sentiment\": \"neutral\", \"confidence\": 0.7}}\n",
    "\n",
    "Input text: {text}\n",
    "\"\"\",\n",
    "    input_variables=[\"text\"],\n",
    "    partial_variables={\"format_instructions\": format_instructions}\n",
    ")"
   ]
  },
  {
   "cell_type": "code",
   "execution_count": 10,
   "id": "fdd3dca3",
   "metadata": {},
   "outputs": [
    {
     "name": "stdout",
     "output_type": "stream",
     "text": [
      "Raw input: 'The new phone is incredible!'\n",
      "Stripped input: 'The new phone is incredible!'\n",
      "Is input empty? False\n",
      "Output: {'sentiment': 'positive', 'confidence': 0.95}\n"
     ]
    }
   ],
   "source": [
    "\n",
    "chain = prompt | llm | output_parser\n",
    "\n",
    "input_text = \"The new phone is incredible!\"\n",
    "\n",
    "print(f\"Raw input: '{input_text}'\")\n",
    "print(f\"Stripped input: '{input_text.strip()}'\")\n",
    "print(f\"Is input empty? {not input_text.strip()}\")\n",
    "\n",
    "if not isinstance(input_text, str) or not input_text.strip():\n",
    "    print(\"No text provided.\")\n",
    "    print({\"sentiment\": \"error\", \"confidence\": 0.0})\n",
    "else:\n",
    "   \n",
    "    response = chain.invoke({\"text\": input_text})\n",
    "    print(\"Output:\", response)"
   ]
  },
  {
   "cell_type": "code",
   "execution_count": null,
   "id": "92985ca3",
   "metadata": {},
   "outputs": [],
   "source": []
  }
 ],
 "metadata": {
  "kernelspec": {
   "display_name": "Python 3",
   "language": "python",
   "name": "python3"
  },
  "language_info": {
   "codemirror_mode": {
    "name": "ipython",
    "version": 3
   },
   "file_extension": ".py",
   "mimetype": "text/x-python",
   "name": "python",
   "nbconvert_exporter": "python",
   "pygments_lexer": "ipython3",
   "version": "3.12.5"
  }
 },
 "nbformat": 4,
 "nbformat_minor": 5
}
