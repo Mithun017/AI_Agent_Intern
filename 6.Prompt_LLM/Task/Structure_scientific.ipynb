{
 "cells": [
  {
   "cell_type": "code",
   "execution_count": 1,
   "id": "eabafad0",
   "metadata": {},
   "outputs": [
    {
     "name": "stderr",
     "output_type": "stream",
     "text": [
      "c:\\Users\\MITHUN\\AppData\\Local\\Programs\\Python\\Python312\\Lib\\site-packages\\tqdm\\auto.py:21: TqdmWarning: IProgress not found. Please update jupyter and ipywidgets. See https://ipywidgets.readthedocs.io/en/stable/user_install.html\n",
      "  from .autonotebook import tqdm as notebook_tqdm\n"
     ]
    },
    {
     "name": "stdout",
     "output_type": "stream",
     "text": [
      "* Running on local URL:  http://127.0.0.1:7860\n",
      "* To create a public link, set `share=True` in `launch()`.\n"
     ]
    },
    {
     "data": {
      "text/html": [
       "<div><iframe src=\"http://127.0.0.1:7860/\" width=\"100%\" height=\"500\" allow=\"autoplay; camera; microphone; clipboard-read; clipboard-write;\" frameborder=\"0\" allowfullscreen></iframe></div>"
      ],
      "text/plain": [
       "<IPython.core.display.HTML object>"
      ]
     },
     "metadata": {},
     "output_type": "display_data"
    },
    {
     "data": {
      "text/plain": []
     },
     "execution_count": 1,
     "metadata": {},
     "output_type": "execute_result"
    }
   ],
   "source": [
    "from langchain_groq import ChatGroq\n",
    "from langchain.output_parsers import StructuredOutputParser, ResponseSchema\n",
    "from langchain.prompts import PromptTemplate\n",
    "import os\n",
    "from dotenv import load_dotenv\n",
    "import gradio as gr\n",
    "\n",
    "load_dotenv()\n",
    "os.environ[\"GROQ_API_KEY\"] = \"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\"\n",
    "\n",
    "llm = ChatGroq(\n",
    "    model=\"llama-3.3-70b-versatile\",\n",
    "    temperature=0.7\n",
    ")\n",
    "\n",
    "response_schemas = [\n",
    "    ResponseSchema(name=\"name\", description=\"Full name of the scientist\", type=\"string\"),\n",
    "    ResponseSchema(name=\"field\", description=\"Primary field of research or study\", type=\"string\"),\n",
    "    ResponseSchema(name=\"notable_works\", description=\"List of notable scientific works or contributions\", type=\"list\"),\n",
    "    ResponseSchema(name=\"impact\", description=\"Brief summary of the scientist’s impact on the field\", type=\"string\")\n",
    "]\n",
    "\n",
    "output_parser = StructuredOutputParser.from_response_schemas(response_schemas)\n",
    "format_instructions = output_parser.get_format_instructions()\n",
    "\n",
    "prompt = PromptTemplate(\n",
    "    template=\"\"\"\n",
    "You are a scientific profile generator. Given the name of a scientist, return their professional profile in structured JSON format.\n",
    "\n",
    "{format_instructions}\n",
    "\n",
    "Examples:\n",
    "- Input: Albert Einstein\n",
    "  Output: {{\n",
    "    \"name\": \"Albert Einstein\",\n",
    "    \"field\": \"Theoretical Physics\",\n",
    "    \"notable_works\": [\"Theory of Relativity\", \"Photoelectric Effect\", \"E=mc^2\"],\n",
    "    \"impact\": \"Transformed theoretical physics and introduced concepts that shaped modern science.\"\n",
    "  }}\n",
    "\n",
    "- Input: Marie Curie\n",
    "  Output: {{\n",
    "    \"name\": \"Marie Curie\",\n",
    "    \"field\": \"Chemistry and Physics\",\n",
    "    \"notable_works\": [\"Discovery of Radium\", \"Discovery of Polonium\", \"Research on radioactivity\"],\n",
    "    \"impact\": \"Pioneered radioactivity research, won two Nobel Prizes, and advanced medical and nuclear science.\"\n",
    "  }}\n",
    "\n",
    "Scientist: {scientist}\n",
    "\"\"\",\n",
    "    input_variables=[\"scientist\"],\n",
    "    partial_variables={\"format_instructions\": format_instructions}\n",
    ")\n",
    "\n",
    "chain = prompt | llm | output_parser\n",
    "\n",
    "def generate_profile(scientist_name):\n",
    "    if not isinstance(scientist_name, str) or not scientist_name.strip():\n",
    "        return {\"name\": \"error\", \"field\": \"\", \"notable_works\": [], \"impact\": \"No name provided.\"}\n",
    "    result = chain.invoke({\"scientist\": scientist_name})\n",
    "    return result\n",
    "\n",
    "gr.Interface(\n",
    "    fn=generate_profile,\n",
    "    inputs=gr.Textbox(label=\"Enter Scientist Name\"),\n",
    "    outputs=gr.JSON(label=\"Generated Scientific Profile\"),\n",
    "    title=\"Scientific Profile Generator\",\n",
    "    description=\"Enter the name of a scientist to generate a structured profile using LLaMA 3 and LangChain via Groq.\"\n",
    ").launch()"
   ]
  },
  {
   "cell_type": "code",
   "execution_count": null,
   "id": "abb52f04",
   "metadata": {},
   "outputs": [],
   "source": []
  }
 ],
 "metadata": {
  "kernelspec": {
   "display_name": "Python 3",
   "language": "python",
   "name": "python3"
  },
  "language_info": {
   "codemirror_mode": {
    "name": "ipython",
    "version": 3
   },
   "file_extension": ".py",
   "mimetype": "text/x-python",
   "name": "python",
   "nbconvert_exporter": "python",
   "pygments_lexer": "ipython3",
   "version": "3.12.5"
  }
 },
 "nbformat": 4,
 "nbformat_minor": 5
}
