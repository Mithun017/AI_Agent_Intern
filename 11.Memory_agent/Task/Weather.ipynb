{
 "cells": [
  {
   "cell_type": "code",
   "execution_count": 4,
   "id": "1d2817e9",
   "metadata": {},
   "outputs": [
    {
     "name": "stdout",
     "output_type": "stream",
     "text": [
      "* Running on local URL:  http://127.0.0.1:7861\n",
      "* To create a public link, set `share=True` in `launch()`.\n"
     ]
    },
    {
     "data": {
      "text/html": [
       "<div><iframe src=\"http://127.0.0.1:7861/\" width=\"100%\" height=\"500\" allow=\"autoplay; camera; microphone; clipboard-read; clipboard-write;\" frameborder=\"0\" allowfullscreen></iframe></div>"
      ],
      "text/plain": [
       "<IPython.core.display.HTML object>"
      ]
     },
     "metadata": {},
     "output_type": "display_data"
    }
   ],
   "source": [
    "import os\n",
    "import requests\n",
    "import gradio as gr\n",
    "from dotenv import load_dotenv\n",
    "from langchain_groq import ChatGroq\n",
    "from langchain.prompts import PromptTemplate\n",
    "from langchain.chains import LLMChain\n",
    "\n",
    "# Load environment variables\n",
    "load_dotenv()\n",
    "GROQ_API_KEY = os.getenv(\"GROQ_API_KEY\")\n",
    "WEATHER_API_KEY = os.getenv(\"WEATHER_API_KEY\")\n",
    "NEWS_API_KEY = os.getenv(\"NEWS_API_KEY\")\n",
    "\n",
    "# Setup LLM\n",
    "llm = ChatGroq(temperature=0.3, model_name=\"llama3-8b-8192\")\n",
    "\n",
    "# Prompt template for news summarization\n",
    "news_prompt = PromptTemplate(\n",
    "    input_variables=[\"news\"],\n",
    "    template=\"\"\"\n",
    "You are an intelligent assistant. Summarize the following news headlines in a concise and engaging manner for a general audience:\n",
    "\n",
    "{news}\n",
    "\"\"\"\n",
    ")\n",
    "\n",
    "# Prompt template for weather beautification\n",
    "weather_prompt = PromptTemplate(\n",
    "    input_variables=[\"city\", \"weather\"],\n",
    "    template=\"\"\"\n",
    "You are a friendly assistant. Based on the weather info provided below, give a natural language response about the current weather in {city}.\n",
    "\n",
    "Weather data:\n",
    "{weather}\n",
    "\"\"\"\n",
    ")\n",
    "\n",
    "# Chains\n",
    "weather_chain = LLMChain(llm=llm, prompt=weather_prompt)\n",
    "news_chain = LLMChain(llm=llm, prompt=news_prompt)\n",
    "\n",
    "# Function to fetch weather data\n",
    "def get_weather(city):\n",
    "    url = f\"https://api.openweathermap.org/data/2.5/weather?q={city}&appid={WEATHER_API_KEY}&units=metric\"\n",
    "    res = requests.get(url)\n",
    "    if res.status_code != 200:\n",
    "        return None\n",
    "    data = res.json()\n",
    "    return f\"Temperature: {data['main']['temp']}°C, Condition: {data['weather'][0]['description'].capitalize()}\"\n",
    "\n",
    "# Function to fetch news headlines\n",
    "def get_top_news():\n",
    "    url = f\"https://newsapi.org/v2/top-headlines?language=en&pageSize=5&apiKey={NEWS_API_KEY}\"\n",
    "    res = requests.get(url)\n",
    "    if res.status_code != 200:\n",
    "        return None\n",
    "    articles = res.json().get(\"articles\", [])\n",
    "    return \"\\n\".join([f\"{i+1}. {a['title']}\" for i, a in enumerate(articles)])\n",
    "\n",
    "# Main function to combine everything\n",
    "def assistant(city):\n",
    "    weather_raw = get_weather(city)\n",
    "    if not weather_raw:\n",
    "        weather_result = \"❌ Could not fetch weather. Check city name or API key.\"\n",
    "    else:\n",
    "        weather_result = weather_chain.run(city=city, weather=weather_raw)\n",
    "\n",
    "    news_raw = get_top_news()\n",
    "    if not news_raw:\n",
    "        news_result = \"❌ Could not fetch news. Check your NewsAPI key.\"\n",
    "    else:\n",
    "        news_result = news_chain.run(news=news_raw)\n",
    "\n",
    "    return weather_result, news_result\n",
    "\n",
    "# Gradio UI\n",
    "iface = gr.Interface(\n",
    "    fn=assistant,\n",
    "    inputs=gr.Textbox(placeholder=\"Enter city name\", label=\"City\"),\n",
    "    outputs=[\n",
    "        gr.Textbox(label=\"🌤 Live Weather Update\"),\n",
    "        gr.Textbox(label=\"📰 Global Trending News Summary\")\n",
    "    ],\n",
    "    title=\"🌍 Live Weather + Global News Assistant\",\n",
    "    description=\"Enter a city name to get live weather and summarized top global news.\"\n",
    ")\n",
    "\n",
    "if __name__ == \"__main__\":\n",
    "    iface.launch()"
   ]
  },
  {
   "cell_type": "code",
   "execution_count": null,
   "id": "dfa24bf7",
   "metadata": {},
   "outputs": [],
   "source": []
  }
 ],
 "metadata": {
  "kernelspec": {
   "display_name": "Python 3",
   "language": "python",
   "name": "python3"
  },
  "language_info": {
   "codemirror_mode": {
    "name": "ipython",
    "version": 3
   },
   "file_extension": ".py",
   "mimetype": "text/x-python",
   "name": "python",
   "nbconvert_exporter": "python",
   "pygments_lexer": "ipython3",
   "version": "3.12.5"
  }
 },
 "nbformat": 4,
 "nbformat_minor": 5
}
