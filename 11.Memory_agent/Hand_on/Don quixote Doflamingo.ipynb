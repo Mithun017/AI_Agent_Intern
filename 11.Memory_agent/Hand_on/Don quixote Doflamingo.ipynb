{
 "cells": [
  {
   "cell_type": "code",
   "execution_count": 18,
   "id": "0a68917b",
   "metadata": {},
   "outputs": [
    {
     "name": "stderr",
     "output_type": "stream",
     "text": [
      "C:\\Users\\MITHUN\\AppData\\Local\\Temp\\ipykernel_19552\\1884363847.py:38: LangChainDeprecationWarning: The class `HuggingFaceEmbeddings` was deprecated in LangChain 0.2.2 and will be removed in 1.0. An updated version of the class exists in the :class:`~langchain-huggingface package and should be used instead. To use it run `pip install -U :class:`~langchain-huggingface` and import as `from :class:`~langchain_huggingface import HuggingFaceEmbeddings``.\n",
      "  embedding = HuggingFaceEmbeddings(model_name=\"all-MiniLM-L6-v2\")\n"
     ]
    },
    {
     "name": "stdout",
     "output_type": "stream",
     "text": [
      "WARNING:tensorflow:From c:\\Users\\MITHUN\\AppData\\Local\\Programs\\Python\\Python312\\Lib\\site-packages\\tf_keras\\src\\losses.py:2976: The name tf.losses.sparse_softmax_cross_entropy is deprecated. Please use tf.compat.v1.losses.sparse_softmax_cross_entropy instead.\n",
      "\n"
     ]
    }
   ],
   "source": [
    "import os\n",
    "from langchain.document_loaders import TextLoader\n",
    "from langchain.text_splitter import RecursiveCharacterTextSplitter\n",
    "from langchain.vectorstores import FAISS\n",
    "from langchain.embeddings import HuggingFaceEmbeddings\n",
    "\n",
    "def load_docs(folder_path):\n",
    "    docs = []\n",
    "    # Check if the directory exists\n",
    "    if not os.path.exists(folder_path):\n",
    "        raise FileNotFoundError(f\"Directory not found: {folder_path}\")\n",
    "    # Iterate through files in the directory\n",
    "    for file in os.listdir(folder_path):\n",
    "        if file.endswith('.txt'):\n",
    "            file_path = os.path.join(folder_path, file)\n",
    "            try:\n",
    "                loader = TextLoader(file_path, encoding='utf8')\n",
    "                docs.extend(loader.load())\n",
    "            except Exception as e:\n",
    "                print(f\"Error loading {file_path}: {e}\")\n",
    "    if not docs:\n",
    "        print(f\"No .txt files found in {folder_path}\")\n",
    "    return docs\n",
    "\n",
    "# Specify the correct folder path\n",
    "folder_path = r\"c:\\Users\\MITHUN\\Desktop\\STUDIES\\Intership\\2.5K Ai Agents Intern\\11.Memory_agent\\Hand_on\"\n",
    "try:\n",
    "    documents = load_docs(folder_path)\n",
    "except FileNotFoundError as e:\n",
    "    print(e)\n",
    "    raise\n",
    "\n",
    "# Split documents\n",
    "splitter = RecursiveCharacterTextSplitter(chunk_size=1000, chunk_overlap=200)\n",
    "docs = splitter.split_documents(documents)\n",
    "\n",
    "# Create embeddings and vector store\n",
    "embedding = HuggingFaceEmbeddings(model_name=\"all-MiniLM-L6-v2\")\n",
    "vectorstore = FAISS.from_documents(docs, embedding)"
   ]
  },
  {
   "cell_type": "code",
   "execution_count": 22,
   "id": "e382217c",
   "metadata": {},
   "outputs": [
    {
     "name": "stdout",
     "output_type": "stream",
     "text": [
      "Vector store created successfully with 1 document chunks.\n"
     ]
    }
   ],
   "source": [
    "import os\n",
    "from langchain.document_loaders import TextLoader\n",
    "from langchain.text_splitter import RecursiveCharacterTextSplitter\n",
    "from langchain.vectorstores import FAISS\n",
    "from langchain_huggingface import HuggingFaceEmbeddings  # Updated import\n",
    "\n",
    "def load_docs(folder_path):\n",
    "    docs = []\n",
    "    if not os.path.exists(folder_path):\n",
    "        raise FileNotFoundError(f\"Directory not found: {folder_path}\")\n",
    "    for file in os.listdir(folder_path):\n",
    "        if file.endswith('.txt'):\n",
    "            file_path = os.path.join(folder_path, file)\n",
    "            try:\n",
    "                loader = TextLoader(file_path, encoding='utf8')\n",
    "                docs.extend(loader.load())\n",
    "            except Exception as e:\n",
    "                print(f\"Error loading {file_path}: {e}\")\n",
    "    if not docs:\n",
    "        print(f\"No .txt files found in {folder_path}\")\n",
    "    return docs\n",
    "\n",
    "# Specify the correct folder path\n",
    "folder_path = r\"C:\\Users\\MITHUN\\Desktop\\STUDIES\\Intership\\2.5K Ai Agents Intern\\11.Memory_agent\\Hand_on\"\n",
    "try:\n",
    "    documents = load_docs(folder_path)\n",
    "except FileNotFoundError as e:\n",
    "    print(e)\n",
    "    raise\n",
    "\n",
    "# Split documents\n",
    "splitter = RecursiveCharacterTextSplitter(chunk_size=1000, chunk_overlap=200)\n",
    "docs = splitter.split_documents(documents)\n",
    "\n",
    "# Create embeddings and vector store\n",
    "embedding = HuggingFaceEmbeddings(model_name=\"all-MiniLM-L6-v2\")\n",
    "vectorstore = FAISS.from_documents(docs, embedding)\n",
    "\n",
    "# Optional: Print confirmation\n",
    "print(\"Vector store created successfully with\", len(docs), \"document chunks.\")"
   ]
  },
  {
   "cell_type": "code",
   "execution_count": null,
   "id": "00f07ecd",
   "metadata": {},
   "outputs": [],
   "source": []
  },
  {
   "cell_type": "code",
   "execution_count": null,
   "id": "4ff0091c",
   "metadata": {},
   "outputs": [],
   "source": []
  }
 ],
 "metadata": {
  "kernelspec": {
   "display_name": "Python 3",
   "language": "python",
   "name": "python3"
  },
  "language_info": {
   "codemirror_mode": {
    "name": "ipython",
    "version": 3
   },
   "file_extension": ".py",
   "mimetype": "text/x-python",
   "name": "python",
   "nbconvert_exporter": "python",
   "pygments_lexer": "ipython3",
   "version": "3.12.5"
  }
 },
 "nbformat": 4,
 "nbformat_minor": 5
}
