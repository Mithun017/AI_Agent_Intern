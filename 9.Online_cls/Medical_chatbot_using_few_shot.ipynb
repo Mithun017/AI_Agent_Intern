{
  "cells": [
    {
      "cell_type": "code",
      "execution_count": 18,
      "metadata": {
        "id": "GdWf9BEj_2LI"
      },
      "outputs": [],
      "source": [
        "from langchain.prompts import PromptTemplate, FewShotPromptTemplate\n",
        "from langchain_groq import ChatGroq\n",
        "from getpass import getpass\n"
      ]
    },
    {
      "cell_type": "code",
      "execution_count": 19,
      "metadata": {
        "id": "95WbhfA0-3wi"
      },
      "outputs": [],
      "source": [
        "import os\n",
        "os.environ[\"GROQ_API_KEY\"] = \"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\"\n"
      ]
    },
    {
      "cell_type": "code",
      "execution_count": 20,
      "metadata": {
        "id": "RKRAhhQw_8pT"
      },
      "outputs": [],
      "source": [
        "examples = [\n",
        "    {\n",
        "        \"question\": \"What are the symptoms of diabetes?\",\n",
        "        \"answer\": \"Common symptoms of diabetes include increased thirst, frequent urination, extreme fatigue, and blurred vision.\"\n",
        "    },\n",
        "    {\n",
        "        \"question\": \"How can I lower my blood pressure naturally?\",\n",
        "        \"answer\": \"You can lower your blood pressure through regular exercise, reducing salt intake, eating more fruits and vegetables, and managing stress.\"\n",
        "    },\n",
        "    {\n",
        "        \"question\": \"What should I do if I have a fever?\",\n",
        "        \"answer\": \"Stay hydrated, rest, and monitor your temperature. If it persists beyond a few days or is very high, consult a doctor.\"\n",
        "    },\n",
        "    {\n",
        "        \"question\": \"Is it safe to take paracetamol and ibuprofen together?\",\n",
        "        \"answer\": \"Yes, in most cases it is safe, but it’s best to alternate them and not exceed the recommended doses. Always consult a doctor if unsure.\"\n",
        "    }\n",
        "]\n"
      ]
    },
    {
      "cell_type": "code",
      "execution_count": 21,
      "metadata": {
        "id": "InHi26rq__T-"
      },
      "outputs": [],
      "source": [
        "example_prompt = PromptTemplate(\n",
        "    input_variables=[\"question\", \"answer\"],\n",
        "    template=\"Q: {question}\\nA: {answer}\"\n",
        ")"
      ]
    },
    {
      "cell_type": "code",
      "execution_count": 22,
      "metadata": {
        "id": "qG_OcLNKABRg"
      },
      "outputs": [],
      "source": [
        "few_shot_prompt = FewShotPromptTemplate(\n",
        "    examples=examples,\n",
        "    example_prompt=example_prompt,\n",
        "    prefix=\"You are a helpful and professional medical assistant. Answer the following questions clearly and responsibly.\\n\\n\",\n",
        "    suffix=\"Q: {user_question}\\nA:\",\n",
        "    input_variables=[\"user_question\"]\n",
        ")\n"
      ]
    },
    {
      "cell_type": "code",
      "execution_count": 23,
      "metadata": {
        "id": "OQ4OZmBYANcd"
      },
      "outputs": [],
      "source": [
        "llm = ChatGroq(temperature=0.3, model_name=\"llama3-70b-8192\")\n"
      ]
    },
    {
      "cell_type": "code",
      "execution_count": 24,
      "metadata": {
        "colab": {
          "base_uri": "https://localhost:8080/"
        },
        "id": "HBrwiffUAN1s",
        "outputId": "9d69d3cb-2bbe-4ad6-c5bd-04335c37de2e"
      },
      "outputs": [
        {
          "name": "stdout",
          "output_type": "stream",
          "text": [
            "\n",
            "🩺 Answer: I'm not a doctor, but I can provide some general guidance. If you're experiencing chest pain, it's essential to seek immediate medical attention. Chest pain can be a symptom of a heart attack or other serious conditions, and prompt medical care is crucial.\n",
            "\n",
            "While waiting for medical help to arrive, try to:\n",
            "\n",
            "* Remain calm and still\n",
            "* Loosen any tight clothing around your neck, chest, and waist\n",
            "* Sit or lie down in a comfortable position\n",
            "* Avoid driving yourself to the hospital or clinic\n",
            "* If you're experiencing severe symptoms, such as difficulty breathing, dizziness, or severe pain, call emergency services immediately\n",
            "\n",
            "Do not attempt to diagnose or treat yourself, as chest pain can be a sign of a life-threatening condition. A healthcare professional will be able to assess your symptoms and provide appropriate treatment.\n",
            "\n",
            "Please seek immediate medical attention if you're experiencing chest pain.\n",
            "👋 Goodbye!\n"
          ]
        }
      ],
      "source": [
        "while True:\n",
        "    user_input = input(\"\\n💬 Ask a medical question (or type 'exit'): \").strip()\n",
        "    if user_input.lower() == \"exit\":\n",
        "        print(\"👋 Goodbye!\")\n",
        "        break\n",
        "    final_prompt = few_shot_prompt.format(user_question=user_input)\n",
        "\n",
        "    response = llm.invoke(final_prompt)\n",
        "\n",
        "    print(f\"\\n🩺 Answer: {response.content}\")\n"
      ]
    },
    {
      "cell_type": "code",
      "execution_count": null,
      "metadata": {
        "id": "QcCcvmgdAPvW"
      },
      "outputs": [],
      "source": []
    }
  ],
  "metadata": {
    "colab": {
      "provenance": []
    },
    "kernelspec": {
      "display_name": "Python 3",
      "name": "python3"
    },
    "language_info": {
      "codemirror_mode": {
        "name": "ipython",
        "version": 3
      },
      "file_extension": ".py",
      "mimetype": "text/x-python",
      "name": "python",
      "nbconvert_exporter": "python",
      "pygments_lexer": "ipython3",
      "version": "3.12.5"
    }
  },
  "nbformat": 4,
  "nbformat_minor": 0
}
