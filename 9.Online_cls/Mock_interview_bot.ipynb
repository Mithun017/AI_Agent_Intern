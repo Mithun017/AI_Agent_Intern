{
  "cells": [
    {
      "cell_type": "markdown",
      "metadata": {},
      "source": [
        "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"
      ]
    },
    {
      "cell_type": "code",
      "execution_count": 4,
      "metadata": {
        "colab": {
          "base_uri": "https://localhost:8080/"
        },
        "id": "OP3YA5SmCDDT",
        "outputId": "d591e67c-0b17-4f15-e2b6-b90bf404f16d"
      },
      "outputs": [],
      "source": [
        "import os\n",
        "from getpass import getpass\n",
        "from langchain_groq import ChatGroq\n",
        "from langchain.prompts import PromptTemplate, FewShotPromptTemplate\n",
        "\n",
        "os.environ[\"GROQ_API_KEY\"] = getpass(\"🔐 Enter your Groq API Key: \")\n",
        "\n",
        "llm = ChatGroq(\n",
        "    temperature=0.4,\n",
        "    model_name=\"llama3-70b-8192\"\n",
        ")\n"
      ]
    },
    {
      "cell_type": "code",
      "execution_count": 5,
      "metadata": {
        "id": "By4J3UokCEpi"
      },
      "outputs": [],
      "source": [
        "examples = [\n",
        "    {\n",
        "        \"question\": \"Tell me about yourself.\",\n",
        "        \"answer\": \"I am a recent Computer Science graduate with a passion for solving problems using software...\",\n",
        "        \"feedback\": \"\"\"\\\n",
        "Score: 8/10\n",
        "Strengths: Clear communication, good structure, relevant skills.\n",
        "Weaknesses: Slightly generic, could include more personal achievements.\n",
        "Suggestions: Add a compelling project or internship to stand out.\"\"\"\n",
        "    },\n",
        "    {\n",
        "        \"question\": \"What are your strengths?\",\n",
        "        \"answer\": \"I'm a fast learner, adaptable, and good at teamwork.\",\n",
        "        \"feedback\": \"\"\"\\\n",
        "Score: 7/10\n",
        "Strengths: Good qualities mentioned concisely.\n",
        "Weaknesses: Lacks specific examples or evidence.\n",
        "Suggestions: Support each strength with a real-life scenario.\"\"\"\n",
        "    },\n",
        "]\n",
        "\n",
        "example_template = \"\"\"Interview Question: {question}\n",
        "Candidate Answer: {answer}\n",
        "Structured Feedback:\n",
        "{feedback}\n",
        "\"\"\"\n",
        "example_prompt = PromptTemplate.from_template(example_template)\n",
        "\n",
        "prompt = FewShotPromptTemplate(\n",
        "    examples=examples,\n",
        "    example_prompt=example_prompt,\n",
        "    prefix=\"\"\"You are an experienced interview coach. After each question and answer, you must give structured feedback in the following format:\n",
        "\n",
        "Score: /10\n",
        "Strengths: ...\n",
        "Weaknesses: ...\n",
        "Suggestions: ...\n",
        "\n",
        "Here are some examples:\"\"\",\n",
        "    suffix=\"\"\"Interview Question: {question}\n",
        "Candidate Answer: {answer}\n",
        "Structured Feedback:\"\"\",\n",
        "    input_variables=[\"question\", \"answer\"]\n",
        ")\n"
      ]
    },
    {
      "cell_type": "code",
      "execution_count": 7,
      "metadata": {
        "colab": {
          "base_uri": "https://localhost:8080/"
        },
        "id": "OX6OF2prCF-v",
        "outputId": "f3341eb6-3f5b-4aa9-f992-dab71138d852"
      },
      "outputs": [
        {
          "name": "stdout",
          "output_type": "stream",
          "text": [
            "\n",
            "💬 Interview Bot - Type 'exit' anytime to quit\n",
            "\n",
            "📝 Interview Coach Feedback:\n",
            "Score: 3/10\n",
            "Strengths: Enthusiasm and willingness to sell.\n",
            "Weaknesses: Lack of clarity, poor grammar, and no structured approach to selling.\n",
            "Suggestions: Start with a hook to grab the customer's attention, highlight the key benefits and unique features of the product, and use persuasive language to close the sale. Practice your tone and pace to sound more confident and convincing.\n",
            "\n",
            "💬 Interview Bot - Type 'exit' anytime to quit\n"
          ]
        }
      ],
      "source": [
        "while True:\n",
        "    print(\"\\n💬 Interview Bot - Type 'exit' anytime to quit\")\n",
        "\n",
        "    user_question = input(\"🧠 Interviewer asks: \")\n",
        "    if user_question.lower() == \"exit\":\n",
        "        break\n",
        "\n",
        "    user_answer = input(\"🎙️ Your answer: \")\n",
        "    if user_answer.lower() == \"exit\":\n",
        "        break\n",
        "\n",
        "    final_prompt = prompt.format(question=user_question, answer=user_answer)\n",
        "\n",
        "    response = llm.invoke(final_prompt)\n",
        "\n",
        "    print(\"\\n📝 Interview Coach Feedback:\\n\" + response.content)\n"
      ]
    },
    {
      "cell_type": "code",
      "execution_count": null,
      "metadata": {
        "id": "ld7xtPhuCH7m"
      },
      "outputs": [],
      "source": []
    }
  ],
  "metadata": {
    "colab": {
      "provenance": []
    },
    "kernelspec": {
      "display_name": "Python 3",
      "name": "python3"
    },
    "language_info": {
      "codemirror_mode": {
        "name": "ipython",
        "version": 3
      },
      "file_extension": ".py",
      "mimetype": "text/x-python",
      "name": "python",
      "nbconvert_exporter": "python",
      "pygments_lexer": "ipython3",
      "version": "3.12.5"
    }
  },
  "nbformat": 4,
  "nbformat_minor": 0
}
