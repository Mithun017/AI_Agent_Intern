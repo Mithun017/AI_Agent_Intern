{
 "cells": [
  {
   "cell_type": "code",
   "execution_count": 4,
   "id": "80f736f0",
   "metadata": {},
   "outputs": [
    {
     "name": "stdout",
     "output_type": "stream",
     "text": [
      "* Running on local URL:  http://127.0.0.1:7861\n",
      "* To create a public link, set `share=True` in `launch()`.\n"
     ]
    },
    {
     "data": {
      "text/html": [
       "<div><iframe src=\"http://127.0.0.1:7861/\" width=\"100%\" height=\"500\" allow=\"autoplay; camera; microphone; clipboard-read; clipboard-write;\" frameborder=\"0\" allowfullscreen></iframe></div>"
      ],
      "text/plain": [
       "<IPython.core.display.HTML object>"
      ]
     },
     "metadata": {},
     "output_type": "display_data"
    }
   ],
   "source": [
    "import gradio as gr\n",
    "from langchain_groq import ChatGroq\n",
    "from langchain_experimental.plan_and_execute import PlanAndExecute, load_agent_executor, load_chat_planner\n",
    "from langchain.agents import Tool\n",
    "from pydantic import BaseModel, Field\n",
    "from typing import List\n",
    "import os\n",
    "import json\n",
    "\n",
    "os.environ[\"GROQ_API_KEY\"] = \"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\"\n",
    "\n",
    "class AgentResponse(BaseModel):\n",
    "    answer: str = Field(..., description=\"The final answer to the user's query\")\n",
    "    steps: List[str] = Field(default_factory=list, description=\"Steps taken by the agent\")\n",
    "\n",
    "llm = ChatGroq(\n",
    "    api_key=os.environ[\"GROQ_API_KEY\"],\n",
    "    model_name=\"llama3-70b-8192\",\n",
    "    temperature=0.7\n",
    ")\n",
    "\n",
    "def calculator(expression: str) -> str:\n",
    "    try:\n",
    "        result = eval(expression, {\"__builtins__\": {}}, {})\n",
    "        return json.dumps({\"answer\": str(result), \"steps\": [f\"Evaluated expression: {expression}\"]})\n",
    "    except Exception as e:\n",
    "        return json.dumps({\"answer\": f\"Error calculating: {str(e)}\", \"steps\": [f\"Attempted to evaluate: {expression}\"]})\n",
    "\n",
    "tools = [\n",
    "    Tool(\n",
    "        name=\"Calculator\",\n",
    "        func=calculator,\n",
    "        description=\"Evaluates simple arithmetic expressions like '2 + 3' or '5 * 4'\"\n",
    "    )\n",
    "]\n",
    "\n",
    "planner = load_chat_planner(llm)\n",
    "executor = load_agent_executor(llm, tools, verbose=True)\n",
    "\n",
    "agent = PlanAndExecute(planner=planner, executor=executor)\n",
    "\n",
    "def process_query(user_input):\n",
    "    try:\n",
    "        if not user_input.strip():\n",
    "            return \"Please enter a valid query.\"\n",
    "        response = agent.run(user_input)\n",
    "        try:\n",
    "            result = json.loads(response)\n",
    "            agent_response = AgentResponse(**result)\n",
    "            output = f\"**Answer**: {agent_response.answer}\\n\\n**Steps**:\\n\" + \"\\n\".join([f\"- {step}\" for step in agent_response.steps])\n",
    "            return output\n",
    "        except json.JSONDecodeError:\n",
    "            return f\"Error parsing agent response: {response}\"\n",
    "    except Exception as e:\n",
    "        return f\"Error processing request: {str(e)}\"\n",
    "\n",
    "with gr.Blocks(title=\"Plan and Execute Agent\") as demo:\n",
    "    gr.Markdown(\"# Simple Arithmetic Agent\")\n",
    "    gr.Markdown(\"Enter an arithmetic query, and the agent will plan and calculate the result.\")\n",
    "    \n",
    "    user_input = gr.Textbox(\n",
    "        label=\"Enter your query\",\n",
    "        placeholder=\"e.g., What is 2 + 3 * 4?\"\n",
    "    )\n",
    "    \n",
    "    submit_button = gr.Button(\"Submit\")\n",
    "    output = gr.Textbox(label=\"Agent Response\", lines=10)\n",
    "    \n",
    "    submit_button.click(\n",
    "        fn=process_query,\n",
    "        inputs=user_input,\n",
    "        outputs=output\n",
    "    )\n",
    "\n",
    "if __name__ == \"__main__\":\n",
    "    demo.launch()"
   ]
  },
  {
   "cell_type": "code",
   "execution_count": 6,
   "id": "c97534ae",
   "metadata": {},
   "outputs": [
    {
     "name": "stdout",
     "output_type": "stream",
     "text": [
      "* Running on local URL:  http://127.0.0.1:7862\n",
      "* To create a public link, set `share=True` in `launch()`.\n"
     ]
    },
    {
     "data": {
      "text/html": [
       "<div><iframe src=\"http://127.0.0.1:7862/\" width=\"100%\" height=\"500\" allow=\"autoplay; camera; microphone; clipboard-read; clipboard-write;\" frameborder=\"0\" allowfullscreen></iframe></div>"
      ],
      "text/plain": [
       "<IPython.core.display.HTML object>"
      ]
     },
     "metadata": {},
     "output_type": "display_data"
    }
   ],
   "source": [
    "import gradio as gr\n",
    "from langchain_groq import ChatGroq\n",
    "from langchain.agents import initialize_agent, AgentType\n",
    "from langchain_experimental.tools import PythonREPLTool\n",
    "from pydantic import BaseModel, Field\n",
    "from typing import List\n",
    "import os\n",
    "import json\n",
    "\n",
    "os.environ[\"GROQ_API_KEY\"] = \"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\"\n",
    "\n",
    "class REPLResponse(BaseModel):\n",
    "    answer: str = Field(..., description=\"Result of the Python execution\")\n",
    "    steps: List[str] = Field(default_factory=list, description=\"Steps executed by the REPL\")\n",
    "\n",
    "llm = ChatGroq(\n",
    "    api_key=os.environ[\"GROQ_API_KEY\"],\n",
    "    model_name=\"llama3-8b-8192\",\n",
    "    temperature=0.5\n",
    ")\n",
    "\n",
    "tools = [\n",
    "    PythonREPLTool(\n",
    "        description=\"Executes Python code for simple calculations or operations. Input should be a valid Python expression like '2 + 3' or 'len([1, 2, 3])'.\"\n",
    "    )\n",
    "]\n",
    "\n",
    "agent = initialize_agent(\n",
    "    tools=tools,\n",
    "    llm=llm,\n",
    "    agent=AgentType.ZERO_SHOT_REACT_DESCRIPTION,\n",
    "    verbose=True\n",
    ")\n",
    "\n",
    "def process_query(user_input):\n",
    "    try:\n",
    "        if not user_input.strip():\n",
    "            return \"Please enter a valid query.\"\n",
    "        response = agent.run(\n",
    "            f\"Execute the following Python expression and return JSON with 'answer' and 'steps' fields: {user_input}\"\n",
    "        )\n",
    "        try:\n",
    "            result = json.loads(response)\n",
    "            repl_response = REPLResponse(**result)\n",
    "            output = f\"*Answer: {repl_response.answer}\\n\\nSteps*:\\n\" + \"\\n\".join([f\"- {step}\" for step in repl_response.steps])\n",
    "            return output\n",
    "        except json.JSONDecodeError:\n",
    "            return f\"Error parsing response: {response}\"\n",
    "    except Exception as e:\n",
    "        return f\"Error processing query: {str(e)}\"\n",
    "\n",
    "with gr.Blocks(title=\"Python REPL Agent\") as demo:\n",
    "    gr.Markdown(\"# Simple Python Calculator Agent\")\n",
    "    gr.Markdown(\"Enter a Python expression like '2 + 3' or 'len([1, 2, 3])' to execute.\")\n",
    "    user_input = gr.Textbox(\n",
    "        label=\"Your Query\",\n",
    "        placeholder=\"e.g., 2 + 3 or len([1, 2, 3])\"\n",
    "    )\n",
    "    submit_button = gr.Button(\"Execute\")\n",
    "    output = gr.Textbox(label=\"Result\", lines=5)\n",
    "    submit_button.click(\n",
    "        fn=process_query,\n",
    "        inputs=user_input,\n",
    "        outputs=output\n",
    "    )\n",
    "\n",
    "if __name__ == \"__main__\":\n",
    "    demo.launch()\n",
    "    "
   ]
  },
  {
   "cell_type": "code",
   "execution_count": null,
   "id": "c33f0fef",
   "metadata": {},
   "outputs": [],
   "source": []
  }
 ],
 "metadata": {
  "kernelspec": {
   "display_name": "Python 3",
   "language": "python",
   "name": "python3"
  },
  "language_info": {
   "codemirror_mode": {
    "name": "ipython",
    "version": 3
   },
   "file_extension": ".py",
   "mimetype": "text/x-python",
   "name": "python",
   "nbconvert_exporter": "python",
   "pygments_lexer": "ipython3",
   "version": "3.12.5"
  }
 },
 "nbformat": 4,
 "nbformat_minor": 5
}
