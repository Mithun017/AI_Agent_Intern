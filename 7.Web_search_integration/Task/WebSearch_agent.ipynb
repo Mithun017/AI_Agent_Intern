{
 "cells": [
  {
   "cell_type": "code",
   "execution_count": null,
   "id": "a80795c4",
   "metadata": {},
   "outputs": [
    {
     "name": "stderr",
     "output_type": "stream",
     "text": [
      "c:\\Users\\MITHUN\\AppData\\Local\\Programs\\Python\\Python312\\Lib\\site-packages\\tqdm\\auto.py:21: TqdmWarning: IProgress not found. Please update jupyter and ipywidgets. See https://ipywidgets.readthedocs.io/en/stable/user_install.html\n",
      "  from .autonotebook import tqdm as notebook_tqdm\n",
      "C:\\Users\\MITHUN\\AppData\\Local\\Temp\\ipykernel_28564\\3687390117.py:67: LangChainDeprecationWarning: LangChain agents will continue to be supported, but it is recommended for new use cases to be built with LangGraph. LangGraph offers a more flexible and full-featured framework for building agents, including support for tool-calling, persistence of state, and human-in-the-loop workflows. For details, refer to the `LangGraph documentation <https://langchain-ai.github.io/langgraph/>`_ as well as guides for `Migrating from AgentExecutor <https://python.langchain.com/docs/how_to/migrate_agent/>`_ and LangGraph's `Pre-built ReAct agent <https://langchain-ai.github.io/langgraph/how-tos/create-react-agent/>`_.\n",
      "  agent = initialize_agent(\n"
     ]
    },
    {
     "name": "stdout",
     "output_type": "stream",
     "text": [
      "* Running on local URL:  http://127.0.0.1:7862\n",
      "* To create a public link, set `share=True` in `launch()`.\n"
     ]
    },
    {
     "data": {
      "text/html": [
       "<div><iframe src=\"http://127.0.0.1:7862/\" width=\"100%\" height=\"500\" allow=\"autoplay; camera; microphone; clipboard-read; clipboard-write;\" frameborder=\"0\" allowfullscreen></iframe></div>"
      ],
      "text/plain": [
       "<IPython.core.display.HTML object>"
      ]
     },
     "metadata": {},
     "output_type": "display_data"
    },
    {
     "name": "stderr",
     "output_type": "stream",
     "text": [
      "C:\\Users\\MITHUN\\AppData\\Local\\Temp\\ipykernel_28564\\3687390117.py:79: LangChainDeprecationWarning: The method `Chain.run` was deprecated in langchain 0.1.0 and will be removed in 1.0. Use :meth:`~invoke` instead.\n",
      "  raw_response = agent.run(\n"
     ]
    },
    {
     "name": "stdout",
     "output_type": "stream",
     "text": [
      "\n",
      "\n",
      "\u001b[1m> Entering new AgentExecutor chain...\u001b[0m\n",
      "\u001b[32;1m\u001b[1;3mThought: I need to understand what Langchain is, so I'll perform a web search to get relevant information.\n",
      "\n",
      "Action: Web Search\n",
      "Action Input: \"what is langchain\"\n",
      "\u001b[0m\n",
      "Observation: \u001b[36;1m\u001b[1;3m{\"answer\": \"LangChain is an open-source framework for developing applications powered by large language models (LLMs), simplifying every stage of the LLM application lifecycle.\", \"sources\": [\"https://www.langchain.com/\", \"https://python.langchain.com/docs/introduction/\", \"https://aws.amazon.com/what-is/langchain/\"]}\u001b[0m\n",
      "Thought:\u001b[32;1m\u001b[1;3mThought: I have the observation from the web search, now I need to format the output as JSON with 'answer' and 'sources' fields.\n",
      "\n",
      "Final Answer: {\"answer\": \"LangChain is an open-source framework for developing applications powered by large language models (LLMs), simplifying every stage of the LLM application lifecycle.\", \"sources\": [\"https://www.langchain.com/\", \"https://python.langchain.com/docs/introduction/\", \"https://aws.amazon.com/what-is/langchain/\"]}\u001b[0m\n",
      "\n",
      "\u001b[1m> Finished chain.\u001b[0m\n"
     ]
    }
   ],
   "source": [
    "import gradio as gr\n",
    "from langchain_groq import ChatGroq\n",
    "from langchain.agents import initialize_agent, AgentType, Tool\n",
    "from langchain.prompts import PromptTemplate\n",
    "from pydantic import BaseModel, Field\n",
    "from typing import List, Optional\n",
    "import os\n",
    "import requests\n",
    "import json\n",
    "\n",
    "os.environ[\"GROQ_API_KEY\"] = \"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\"\n",
    "os.environ[\"SERPAPI_API_KEY\"] = \"bd0d819e093e6c8acf32d6aaab551208bb2f15b199966fa215daa790ba73c33d\"\n",
    "\n",
    "class SearchResult(BaseModel):\n",
    "    answer: str = Field(..., description=\"The summarized answer to the user's query\")\n",
    "    sources: List[str] = Field(default_factory=list, description=\"List of source URLs used for the answer\")\n",
    "\n",
    "llm = ChatGroq(\n",
    "    api_key=os.environ[\"GROQ_API_KEY\"],\n",
    "    model_name=\"llama3-70b-8192\",\n",
    "    temperature=0.7\n",
    ")\n",
    "\n",
    "def web_search(query: str) -> str:\n",
    "    api_key = os.environ[\"SERPAPI_API_KEY\"]\n",
    "    params = {\n",
    "        \"engine\": \"google\",\n",
    "        \"q\": query,\n",
    "        \"api_key\": api_key\n",
    "    }\n",
    "    try:\n",
    "        response = requests.get(\"https://serpapi.com/search\", params=params)\n",
    "        response.raise_for_status()\n",
    "        data = response.json()\n",
    "        results = data.get(\"organic_results\", [])\n",
    "        if not results:\n",
    "            return json.dumps({\"answer\": f\"No results found for: {query}\", \"sources\": []})\n",
    "      \n",
    "        formatted_results = [\n",
    "            {\"title\": r.get(\"title\"), \"snippet\": r.get(\"snippet\"), \"link\": r.get(\"link\")}\n",
    "            for r in results[:3]\n",
    "        ]\n",
    "        summary_prompt = PromptTemplate(\n",
    "            input_variables=[\"results\", \"query\"],\n",
    "            template=\"Based on the following search results, provide a concise answer to the query '{query}':\\n{results}\"\n",
    "        )\n",
    "        summary_chain = summary_prompt | llm\n",
    "        summary = summary_chain.invoke({\n",
    "            \"results\": \"\\n\".join([f\"- {r['title']}: {r['snippet']} ({r['link']})\" for r in formatted_results]),\n",
    "            \"query\": query\n",
    "        }).content\n",
    "        return json.dumps({\n",
    "            \"answer\": summary,\n",
    "            \"sources\": [r[\"link\"] for r in formatted_results]\n",
    "        })\n",
    "    except Exception as e:\n",
    "        return json.dumps({\"answer\": f\"Error fetching search results: {str(e)}\", \"sources\": []})\n",
    "\n",
    "tools = [\n",
    "    Tool(\n",
    "        name=\"Web Search\",\n",
    "        func=web_search,\n",
    "        description=\"Performs a web search using SerpAPI to fetch relevant information for a given query.\"\n",
    "    )\n",
    "]\n",
    "\n",
    "agent = initialize_agent(\n",
    "    tools=tools,\n",
    "    llm=llm,\n",
    "    agent=AgentType.ZERO_SHOT_REACT_DESCRIPTION,\n",
    "    verbose=True\n",
    ")\n",
    "\n",
    "def process_query(user_input):\n",
    "    try:\n",
    "        if not user_input.strip():\n",
    "            return \"Please enter a valid query.\"\n",
    "        # Run the agent with the user's query\n",
    "        raw_response = agent.run(\n",
    "            f\"Answer the following query with a concise response and include source URLs if web search is used. Format the output as JSON with 'answer' and 'sources' fields: {user_input}\"\n",
    "        )\n",
    "        try:\n",
    "            result = json.loads(raw_response)\n",
    "            search_result = SearchResult(**result)\n",
    "           \n",
    "            output = f\"**Answer**: {search_result.answer}\\n\\n**Sources**:\\n\" + \"\\n\".join([f\"- {url}\" for url in search_result.sources])\n",
    "            return output\n",
    "        except json.JSONDecodeError:\n",
    "            return f\"Error parsing agent response: {raw_response}\"\n",
    "    except Exception as e:\n",
    "        return f\"Error processing request: {str(e)}\"\n",
    "\n",
    "with gr.Blocks(title=\"Intelligent Web Search Agent\") as demo:\n",
    "    gr.Markdown(\"# Intelligent Web Search Agent\")\n",
    "    gr.Markdown(\"Enter any query, and the agent will search the web to provide a concise answer with source URLs.\")\n",
    "    \n",
    "    user_input = gr.Textbox(\n",
    "        label=\"Enter your query\",\n",
    "        placeholder=\"e.g., What is the capital of France? or Latest AI news\"\n",
    "    )\n",
    "    \n",
    "    submit_button = gr.Button(\"Submit\")\n",
    "    output = gr.Textbox(label=\"Agent Response\", lines=10)\n",
    "    \n",
    "    submit_button.click(\n",
    "        fn=process_query,\n",
    "        inputs=user_input,\n",
    "        outputs=output\n",
    "    )\n",
    "\n",
    "if __name__ == \"__main__\":\n",
    "    demo.launch()"
   ]
  },
  {
   "cell_type": "code",
   "execution_count": null,
   "id": "148caf66",
   "metadata": {},
   "outputs": [],
   "source": []
  }
 ],
 "metadata": {
  "kernelspec": {
   "display_name": "Python 3",
   "language": "python",
   "name": "python3"
  },
  "language_info": {
   "codemirror_mode": {
    "name": "ipython",
    "version": 3
   },
   "file_extension": ".py",
   "mimetype": "text/x-python",
   "name": "python",
   "nbconvert_exporter": "python",
   "pygments_lexer": "ipython3",
   "version": "3.12.5"
  }
 },
 "nbformat": 4,
 "nbformat_minor": 5
}
